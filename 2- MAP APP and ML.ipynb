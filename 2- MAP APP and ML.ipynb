{
 "cells": [
  {
   "cell_type": "markdown",
   "metadata": {
    "colab_type": "text",
    "id": "rTIDpPQVZqqH"
   },
   "source": [
    "# 2. Channel coding and detection: MAP and ML  "
   ]
  },
  {
   "cell_type": "markdown",
   "metadata": {
    "colab_type": "text",
    "id": "TEdNQ2HAZqqK"
   },
   "source": [
    "## Detection basics\n",
    "\n",
    "Let $u^k$ be a binary sequence which is to be transmitted through $n$ channel accesses to a memoryless noisy channel defined by a probability density $P_{Y|X}$, i.e. the channel takes as input the sequence $x^n$ and outputs a sequence $y^n$ with probability\n",
    "\n",
    "$$ P(y^n|x^n) = \\prod_{i=1}^n P_{Y|X} (y_i |x_i). $$ \n",
    "\n",
    "The sequence $u^k$ is mapped to the sequence $x^n$ through a mapping which could be an error correction code $f_e(\\cdot)$ concatenated with a constellation mapping. \n",
    "\n",
    "<img src=\"figs/ShannonPointToPoint.png\" width=\"600\">\n",
    "\n",
    "Our purpose is to detect from the received sequence $y^n$, an estimate $\\hat{u}^k$ of the initially transmitted sequence $u^k$. To this end, the receiver consists in a detection rule $f_d(\\cdot)$ which assigns to each sequence $y^n$ an estimate $\\hat{u}^k = f_d(y^n)$. \n",
    "\n",
    "N.B: In this course, we will focus only on deterministic detection rules. \n"
   ]
  },
  {
   "cell_type": "markdown",
   "metadata": {
    "colab_type": "text",
    "id": "UkXrO3yYZqqN"
   },
   "source": [
    "## Probability of error: misdetection \n",
    "\n",
    "To evaluate the performance of any detection rule $f_d(\\cdot)$, one needs to evaluate the average probability of error. We can define two types of error probabilities: the sequence (block) error probability and the bit error probability: \n",
    "\n",
    "- The sequence error probability is defined as \n",
    "$$ P_s(f_d) = \\mathbb{P} \\left(\\hat{U}^k \\neq U^k \\right).$$\n",
    "\n",
    "- The bit error probability is defined as \n",
    "$$ P_b(f_d) = \\dfrac{1}{k} \\sum_{i=1} \\mathbb{P} \\left(\\hat{U}_i \\neq U_i\\right).$$\n",
    "    \n",
    "Question: What is random in the computation of the error probabilities ? "
   ]
  },
  {
   "cell_type": "markdown",
   "metadata": {
    "colab_type": "raw",
    "id": "faLTStB-ZqqP"
   },
   "source": [
    "**Answer:** The noisy channel"
   ]
  },
  {
   "cell_type": "markdown",
   "metadata": {
    "colab_type": "text",
    "id": "uurp6zuzZqqV"
   },
   "source": [
    "In practice, the sequence error probability is approximated through Monte Carlo simulations with the Frame Error Rate (FER), or Packet Error Rate (PER), whilst the bit error probability is approximated with the Bit Error Rate (BER). \n",
    "\n",
    "In the following, we characterize the optimal detectors from both the bit and sequence error probabilities perspectives. "
   ]
  },
  {
   "cell_type": "markdown",
   "metadata": {
    "colab_type": "text",
    "id": "1O1ccaQEZqqX"
   },
   "source": [
    "##  Sequence detection: MAP, APP and ML \n",
    "\n",
    "The optimal detection rule $f_d(\\cdot)$ which minimizes the sequence probability of error is known as the Maximum A Posteriori (MAP) detector. This detector writes as\n",
    "\n",
    "$$\\hat{u}^k = f_{APP}(y^n) = \\underset{u^k}{argmax} \\  P\\left(u^k| y^n \\right)$$\n",
    "\n",
    "where the probability $P(u^k| y^n)$ is called the A Posterior Probability (APP). \n",
    "\n",
    "Question: Express the A Posterior probability $P\\left(u^k| y^n \\right)$ as a function of the channel probability $P_{Y|X}$, the prior distribution $P\\left(u^k \\right)$, and the mapping $f_e(\\cdot)$. "
   ]
  },
  {
   "cell_type": "markdown",
   "metadata": {
    "colab_type": "raw",
    "id": "3rnl2CBCZqqb"
   },
   "source": [
    "**Answer:** \n",
    "\n",
    "The FEC encoder is a deterministic and injective function. So, we have the following relation:\n",
    "\n",
    "$$P\\left(y^n| u^k \\right) = P\\left(y^n| f_e(u^k) \\right) = P\\left(y^n| x^k \\right)$$\n",
    "\n",
    "Using the Bayes formula :\n",
    "\n",
    "$$\n",
    "\\begin{align*}\n",
    "P\\left(u^k| y^n \\right) \n",
    "& = \\frac{P\\left(y^n| u^k \\right)P(u^k)}{P\\left(y^n\\right)} \\\\\n",
    "& = \\frac{P\\left(y^n| x^k \\right)P(u^k)}{P\\left(y^n\\right)} \\\\\n",
    "& = \\frac{P(u^k)\\prod_{i=1}^n P_{Y|X} (y_i |x_i)}{P\\left(y^n\\right)} \\\\\n",
    "& = \\boxed{\\frac{P(u^k)\\prod_{i=1}^n P_{Y|X} (y_i |f_{e_i}(u_i))}{P\\left(y^n\\right)}}\n",
    "\\end{align*}\n",
    "$$\n",
    "\n",
    "Using the total probability formula :\n",
    "\n",
    "$$\n",
    "\\begin{align*}\n",
    "P\\left(y^n\\right) \n",
    "& = \\sum_{u^k \\in~[0;1]^k} P(u^k)P(y^n|u^k) \\\\\n",
    "& = \\boxed{\\sum_{x^n \\in~\\mathbb{E}} P(u^k)P(y^n|x^n)}\n",
    "\\end{align*}\n",
    "$$\n",
    "\n",
    "Where $N$ is the total number of reachable words and $\\mathbb E = f_e([0;1]^k)$ is the space of all reachable words from the error corrector code."
   ]
  },
  {
   "cell_type": "markdown",
   "metadata": {
    "colab_type": "text",
    "id": "f_sSI2pcZqqe"
   },
   "source": [
    "In detection theory, we can as well define the so called ML detector given by \n",
    "\n",
    "$$\\hat{u}^k = f_{ML} (y^n) = \\underset{u^k}{argmax} \\  P\\left(y^n| u^k \\right) . $$ \n",
    "\n",
    "Question: Under which condition on the prior distribution $P\\left(u^k \\right) $ are the ML and MAP detectors equivalent? "
   ]
  },
  {
   "cell_type": "markdown",
   "metadata": {
    "colab_type": "raw",
    "id": "lY7kOqhfZqqf"
   },
   "source": [
    "**Answer**: According to previous questions\n",
    "\n",
    "\n",
    "$$\n",
    "\\begin{align*}\n",
    "f_{APP}(y^n) \n",
    "& = \\underset{u^k}{argmax} \\  P\\left(u^k| y^n \\right) \\\\\n",
    "& = \\underset{u^k}{argmax} \\ \\frac{P(u^k)\\prod_{i=1}^n P_{Y|X} (y_i |f_{e_i}(u_i))}{P\\left(y^n\\right)} \\\\\n",
    "& = \\boxed{\\underset{u^k}{argmax} \\ P(u^k)\\prod_{i=1}^n P_{Y|X} (y_i |f_{e_i}(u_i))}\n",
    "\\end{align*}\n",
    "$$\n",
    "\n",
    "$$\n",
    "\\begin{align*}\n",
    "f_{ML} (y^n) \n",
    "& = \\underset{u^k}{argmax} \\  P\\left(y^n| u^k \\right) \\\\\n",
    "& = \\boxed{\\underset{u^k}{argmax} \\ \\prod_{i=1}^n P_{Y|X} (y_i |f_{e_i}(u_i))}\n",
    "\\end{align*}\n",
    "$$ \n",
    "\n",
    "If $u^k$ follow an uniform repartition, we have $P(u^k) = \\dfrac{1}{2^k}$.\n",
    "\n",
    "So \n",
    "$$f_{APP}(y^n) = \\underset{u^k}{argmax} \\ \\frac{1}{2^k} \\prod_{i=1}^n P_{Y|X} (y_i |f_{e_i}(u_i)) = \\prod_{i=1}^n P_{Y|X} (y_i |f_{e_i}(u_i)) = f_{ML} (y^n)$$\n",
    "\n",
    "Now, if we suppose $f_{APP}(y^n) = f_{ML} (y^n)$ then \n",
    "$$\\underset{u^k}{argmax} \\ P(u^k)\\prod_{i=1}^n P_{Y|X} (y_i |f_{e_i}(u_i))=\\underset{u^k}{argmax} \\ \\prod_{i=1}^n P_{Y|X} (y_i |f_{e_i}(u_i))$$\n",
    "So for the two argmax to be equal $P(u^k)$ needs to be independant of sequence $u^k$ so it must follow a uniform repartition with $P(u^k)=\\dfrac{1}{2^k}$"
   ]
  },
  {
   "cell_type": "markdown",
   "metadata": {
    "colab_type": "text",
    "id": "4y6i3FKMZqqj"
   },
   "source": [
    "Question: Do you know of an algorithm which implements the sequence MAP detector? "
   ]
  },
  {
   "cell_type": "markdown",
   "metadata": {
    "colab_type": "raw",
    "id": "rTjNjj2KZqqk"
   },
   "source": [
    "**Answer**: The BCJR algorithm"
   ]
  },
  {
   "cell_type": "markdown",
   "metadata": {
    "colab_type": "text",
    "id": "AXDUmDMWZqqm"
   },
   "source": [
    "Question: Consider a Gaussian channel with variance $\\sigma^2$, i.e.,\n",
    "\n",
    "  $$ P(y|x) = \\dfrac{1}{\\sqrt{2 \\pi \\sigma^2}} \\exp\\left( \\dfrac{-(y-x)^2}{2 \\sigma^2} \\right) , $$\n",
    "\n",
    "over which we wish to communicate a binary sequence of length $k$.\n",
    "\n",
    "Question: Write the sequence MAP criterion for a mapping $f_e(\\cdot)$ under the assumption of a uniform prior distribution $P(u^k) = 2^{-k} $. \n"
   ]
  },
  {
   "cell_type": "markdown",
   "metadata": {
    "colab_type": "raw",
    "id": "oONQ-d5nZqqo"
   },
   "source": [
    "**Answer**:  \n",
    "\n",
    "$$\n",
    "\\begin{align*}\n",
    "f_{APP}(y^n) \n",
    "& = \\underset{u^k}{argmax} \\prod_{i=1}^n P_{Y|X} (y_i^n |f_{e_i}(u^k)) \\\\\n",
    "& = \\underset{u^k}{argmax}\\prod_{i=1}^n \\dfrac{1}{\\sqrt{2 \\pi \\sigma^2}} \\exp\\left( \\dfrac{-(y_i^n-f_{e_i}(u^k))^2}{2 \\sigma^2} \\right) \\\\\n",
    "& = \\underset{u^k}{argmax} \\sum_{i=1}^n-(y_i^n-f_{e_i}(u^k))^2 \\\\\n",
    "& = \\underset{x^n \\ \\in \\ \\mathbb E}{argmin}\\sum_{i=1}^n d(y_i^n,x_i^n)^2 \\\\\n",
    "& = \\underset{x^n \\ \\in \\ \\mathbb E}{argmin}~d(y^n,x^n)^2 \\\\\n",
    "& = \\boxed{\\underset{x^n \\ \\in \\ \\mathbb E}{argmin}~d(y^n,x^n)}\n",
    "\\end{align*}\n",
    "$$\n",
    "\n",
    "Where $\\mathbb E = f_e([0;1]^k)$ is the space of all reachable words from the error corrector code\n"
   ]
  },
  {
   "cell_type": "markdown",
   "metadata": {
    "colab_type": "text",
    "id": "bUwmxc2dZqqp"
   },
   "source": [
    "Question: Consider a Binary Symmetric Channel with crossover probability $p$, i.e., \n",
    "\n",
    "  $$ P(y|x) =  p^{x \\oplus y} (1-p)^{1 - x \\oplus y}  , $$\n",
    "  \n",
    "over which we wish to communicate a binary sequence of length $k$. Write the sequence MAP criterion for a mapping $f_e(\\cdot)$ under the assumption of a uniform prior distribution $P(u^k) = 2^{-k} $. \n"
   ]
  },
  {
   "cell_type": "markdown",
   "metadata": {
    "colab_type": "raw",
    "id": "3zqo5fVdZqqq"
   },
   "source": [
    "**Answer**: $$ \\underset{u^k}{argmax}~ P(y^n|x^n) = p^{x^n \\oplus y^n} (1-p)^{1 - x^n \\oplus y^n} = \\underset{u^n}{argmax}~\\left( \\dfrac{p}{1-p}\\right)^{x^n \\oplus y^n}, $$\n",
    "Since $p\\leq \\dfrac{1}{2}$ generally then $\\dfrac{p}{1-p}  \\in [0;1]$ we have : \n",
    "$$\\underset{u^k}{argmax}~P(y^n|x^n) = \\underset{u^k}{argmin}~{x^n \\oplus y^n}=\\underset{x^n}{argmin}~d_{Hamming}(y^n,x^n)$$"
   ]
  },
  {
   "cell_type": "markdown",
   "metadata": {
    "colab_type": "text",
    "id": "xf4Ab9orZqqs"
   },
   "source": [
    "Question: In the case of uncoded BPSK communication over an AWGN channel, prove that the MAP criterion amounts to a threshold detector and give the value of the threshold. "
   ]
  },
  {
   "cell_type": "markdown",
   "metadata": {
    "colab_type": "raw",
    "id": "7teLh06EZqqt"
   },
   "source": [
    "**Answer**: \n",
    "Let's first consider the transmission of a sequence of one bit over an AWGN channel.\n",
    "\n",
    "We've shown before that : \n",
    "$$\n",
    "\\begin{align*}\n",
    "f_{APP}(y)\n",
    "& = \\underset{u\\in~ \\{0,1\\}}{argmax}~\\dfrac{1}{\\sqrt{2 \\pi \\sigma^2}} \\exp\\left( \\dfrac{-(y-f_{e}(u))^2}{2 \\sigma^2} \\right)\\\\\n",
    "& = \\underset{x\\in~ \\{-1,1\\}}{argmax}~  \\bigg\\{ \\dfrac{1}{\\sqrt{2 \\pi \\sigma^2}} \\exp\\left( \\dfrac{-(y+1)^2}{2 \\sigma^2} \\right) , \\dfrac{1}{\\sqrt{2 \\pi \\sigma^2}} \\exp\\left( \\dfrac{-(y-1)^2}{2 \\sigma^2} \\right) \\bigg\\}\\\\\n",
    "& = \\underset{x\\in~ \\{-1,1\\}}{argmin}~\\big\\{d(y,-1),d(y,1)\\big\\}\\\\\n",
    "& = \\underset{x\\in~ \\{-1,1\\}}{argmin}~\\big\\{(y+1)^2,(y-1)^2\\big\\}\n",
    "\\end{align*}\n",
    "$$\n",
    "\n",
    "Wich give a threshold of $y=0$ (because $(y+1)^2>(y-1)^2 \\Rightarrow y>0$)\n",
    "\n",
    "We can then generalize for a sequence of $k$ bits, we have then a threshold for every $y_i^n$ which is 0.\n",
    "\n",
    "(With an other constellation mapping the threshold would have been the mean of the mapped symbols, which here is 0 for a BPSK.)"
   ]
  },
  {
   "cell_type": "markdown",
   "metadata": {
    "colab_type": "text",
    "id": "GS0e578jZqqu"
   },
   "source": [
    "##  Bit detection:  MAP and APP  \n",
    "\n",
    "The optimal detection rule from a bit error probability is called the bit-MAP detector. This detector writes as: \n",
    "\n",
    "$$\\hat{u}_i = f_{APP}(y^n) = \\underset{u_i}{argmax} \\  P(u_i| y^n) . $$\n",
    "\n",
    "Question: Express the A Posterior probability $P(u_i| y^n)$ as a function of the channel probability $P_{Y|X}$ and the prior distribution $P(u^k)$. "
   ]
  },
  {
   "cell_type": "markdown",
   "metadata": {
    "colab_type": "raw",
    "id": "rAb68321Zqqv"
   },
   "source": [
    "**Answer:**\n",
    "\n",
    "$$\n",
    "\\begin{align*}\n",
    "P(u_i| y^n)\n",
    "& = \\frac{P\\left(y^n| u_i \\right)P(u_i)}{P\\left(y^n\\right)} \\\\\n",
    "& = \\frac{P(u_i) P_{Y|X} (y^n_i | u_i)}{P\\left(y^n\\right)}\n",
    "\\end{align*}\n",
    "$$"
   ]
  },
  {
   "cell_type": "markdown",
   "metadata": {
    "colab_type": "text",
    "id": "a4gyQJGLZqqv"
   },
   "source": [
    "Question: Do you know of an algorithm to implement the bit-MAP detector? "
   ]
  },
  {
   "cell_type": "markdown",
   "metadata": {
    "colab_type": "raw",
    "id": "lKi-DeP3Zqq6"
   },
   "source": [
    "**Answer** :\n",
    "The Viterby Algorithm"
   ]
  },
  {
   "cell_type": "markdown",
   "metadata": {
    "colab_type": "text",
    "id": "9-1GRY4yZqq7"
   },
   "source": [
    "## Detection over classical channels"
   ]
  },
  {
   "cell_type": "markdown",
   "metadata": {
    "colab_type": "text",
    "id": "VJYkM_omZqq7"
   },
   "source": [
    "###  1. Uncoded transmissions: AWGN and BSC channels\n",
    "\n",
    "Based on the communication chain you implemented previously, simulate and compute the BER of the MAP sequence decoder for uncoded communication over an AWGN channel. Compare its performance with the theoretic curve of BER as a function of $E_b/N_0$. Comment. "
   ]
  },
  {
   "cell_type": "code",
   "execution_count": 1,
   "metadata": {
    "colab": {},
    "colab_type": "code",
    "id": "b2vaSM5iZqq8"
   },
   "outputs": [
    {
     "name": "stdout",
     "output_type": "stream",
     "text": [
      "Start EbN0 1/20 [-20.0] /500 No FEC matrix specified, auto switch receiver mode to CLASSIC\n",
      "[86.8 %][173.0 %] | Ended in 0.0 s\n",
      "Start EbN0 2/20 [-18.53] /500 [84.8 %][166.8 %] | Ended in 0.0 s\n",
      "Start EbN0 3/20 [-17.05] /500 [85.4 %][171.8 %] | Ended in 0.0 s\n",
      "Start EbN0 4/20 [-15.58] /500 [84.2 %][165.2 %] | Ended in 0.0 s\n",
      "Start EbN0 5/20 [-14.11] /500 [80.8 %][156.0 %] | Ended in 0.0 s\n",
      "Start EbN0 6/20 [-12.63] /500 [68.6 %][142.4 %] | Ended in 0.0 s\n",
      "Start EbN0 7/20 [-11.16] /500 [68.2 %][134.2 %] | Ended in 0.0 s\n",
      "Start EbN0 8/20 [-9.68] /500 [69.0 %][133.0 %] | Ended in 0.0 s\n",
      "Start EbN0 9/20 [-8.21] /500 [59.8 %][119.0 %] | Ended in 0.0 s\n",
      "Start EbN0 10/20 [-6.74] /500 [46.8 %][99.0 %][152.4 %] | Ended in 0.0 s\n",
      "Start EbN0 11/20 [-5.26] /500 [45.4 %][86.4 %][129.6 %] | Ended in 0.0 s\n",
      "Start EbN0 12/20 [-3.79] /500 [40.0 %][77.0 %][118.8 %] | Ended in 0.0 s\n",
      "Start EbN0 13/20 [-2.32] /500 [25.6 %][52.6 %][80.2 %][112.2 %] | Ended in 0.0 s\n",
      "Start EbN0 14/20 [-0.84] /500 [17.8 %][38.0 %][59.6 %][79.6 %][98.8 %][121.2 %] | Ended in 0.01 s\n",
      "Start EbN0 15/20 [0.63] /500 [10.8 %][25.0 %][38.6 %][50.4 %][63.8 %][73.8 %][90.4 %][103.6 %] | Ended in 0.01 s\n",
      "Start EbN0 16/20 [2.11] /500 [13.6 %][20.8 %][35.4 %][42.8 %][50.6 %][67.2 %][77.2 %][82.6 %][90.2 %][104.0 %] | Ended in 0.01 s\n",
      "Start EbN0 17/20 [3.58] /500 [10.8 %][22.0 %][33.2 %][41.2 %][52.8 %][61.2 %][73.6 %][81.6 %][92.4 %][100.4 %] | Ended in 0.03 s\n",
      "Start EbN0 18/20 [5.05] /500 [10.4 %][20.8 %][32.6 %][40.6 %][51.8 %][60.6 %][70.2 %][80.4 %][90.8 %][101.4 %] | Ended in 0.06 s\n",
      "Start EbN0 19/20 [6.53] /500 [10.2 %][20.6 %][30.2 %][40.4 %][50.2 %][60.2 %][70.2 %][80.6 %][90.2 %] | Ended in 0.24 s\n",
      "Start EbN0 20/20 [8.0] /500 [10.2 %][20.2 %][30.2 %][40.2 %][50.2 %][60.2 %][70.2 %][80.2 %][90.2 %] | Ended in 1.66 s\n"
     ]
    },
    {
     "data": {
      "image/png": "[encoded data removed]",
      "text/plain": [
       "<Figure size 432x288 with 1 Axes>"
      ]
     },
     "metadata": {
      "needs_background": "light"
     },
     "output_type": "display_data"
    }
   ],
   "source": [
    "import matplotlib.pyplot as plt\n",
    "import numpy as np\n",
    "\n",
    "from src.communications import Transmitter, AWGNChannel, Receiver\n",
    "from src.utils import *\n",
    "\n",
    "# Configuration\n",
    "MODULATION = 'BPSK'\n",
    "EbN0dBs = np.linspace(-20, 8, 20)\n",
    "\n",
    "# Initialization\n",
    "transmitter = Transmitter(MODULATION)\n",
    "receiver = Receiver(MODULATION)\n",
    "\n",
    "channel = AWGNChannel(get_bps(MODULATION), transmitter.block_length, transmitter.block_coded_length)\n",
    "\n",
    "if __name__ == '__main__':\n",
    "    BER = ber_performance(\n",
    "        EbN0dBs,\n",
    "        get_basic_channel_fct(transmitter, channel, receiver),\n",
    "        1000,\n",
    "        500\n",
    "    )\n",
    "\n",
    "    # Plot results\n",
    "    plt.figure()\n",
    "    show_ber(MODULATION, EbN0dBs, BER)\n",
    "    plt.legend(['BPSK Theory', 'MAP simulation (Uncoded transmission)'])\n",
    "    plt.show()"
   ]
  },
  {
   "cell_type": "markdown",
   "metadata": {
    "colab_type": "text",
    "id": "Gcsg5CDQZqrA"
   },
   "source": [
    "###  2. Coded transmission: "
   ]
  },
  {
   "cell_type": "markdown",
   "metadata": {
    "colab_type": "text",
    "id": "b_Y6IT1hZqrB"
   },
   "source": [
    "Based on the communication chain you implemented previously, simulate and compute the BER of the MAP sequence decoder for communication over an AWGN channel with a given linear block error correction code: use the following generator matrix of a polar code: \n",
    "\n",
    "G = array([[1, 1, 1, 1, 0, 0, 0, 0, 0, 0, 0, 0, 0, 0, 0, 0],\n",
    "       [1, 1, 0, 0, 1, 1, 0, 0, 0, 0, 0, 0, 0, 0, 0, 0],\n",
    "       [1, 1, 1, 1, 1, 1, 1, 1, 0, 0, 0, 0, 0, 0, 0, 0],\n",
    "       [1, 1, 0, 0, 0, 0, 0, 0, 1, 1, 0, 0, 0, 0, 0, 0],\n",
    "       [1, 1, 1, 1, 0, 0, 0, 0, 1, 1, 1, 1, 0, 0, 0, 0],\n",
    "       [1, 1, 0, 0, 1, 1, 0, 0, 1, 1, 0, 0, 1, 1, 0, 0],\n",
    "       [1, 0, 1, 0, 1, 0, 1, 0, 1, 0, 1, 0, 1, 0, 1, 0],\n",
    "       [1, 1, 1, 1, 1, 1, 1, 1, 1, 1, 1, 1, 1, 1, 1, 1]])"
   ]
  },
  {
   "cell_type": "code",
   "execution_count": 7,
   "metadata": {
    "colab": {
     "base_uri": "https://localhost:8080/",
     "height": 34
    },
    "colab_type": "code",
    "executionInfo": {
     "elapsed": 654,
     "status": "ok",
     "timestamp": 1581411275010,
     "user": {
      "displayName": "Thibault Piana",
      "photoUrl": "https://lh3.googleusercontent.com/a-/AAuE7mBBEkRBFiuL8UuI8IqCO-yLr4I915lnrATVAqmiRQ=s64",
      "userId": "06996799130223842064"
     },
     "user_tz": -60
    },
    "id": "0ulbuaKlZqrB",
    "outputId": "741c7c81-be3c-4ff0-ee9a-d3e8df0bbdfa"
   },
   "outputs": [
    {
     "name": "stdout",
     "output_type": "stream",
     "text": [
      "Start EbN0 1/10 [-10.0] /500 [724.4 %] | Ended in 2.24 s\n",
      "Start EbN0 2/10 [-8.33] /500 [703.0 %] | Ended in 2.33 s\n",
      "Start EbN0 3/10 [-6.67] /500 [671.2 %] | Ended in 2.63 s\n",
      "Start EbN0 4/10 [-5.0] /500 [571.2 %] | Ended in 2.57 s\n",
      "Start EbN0 5/10 [-3.33] /500 [472.6 %] | Ended in 2.31 s\n",
      "Start EbN0 6/10 [-1.67] /500 [336.4 %] | Ended in 2.35 s\n",
      "Start EbN0 7/10 [0.0] /500 [196.8 %] | Ended in 2.39 s\n",
      "Start EbN0 8/10 [1.67] /500 [86.6 %][169.0 %] | Ended in 4.66 s\n",
      "Start EbN0 9/10 [3.33] /500 [27.0 %][52.0 %][71.6 %][88.0 %][115.4 %] | Ended in 11.48 s\n",
      "Start EbN0 10/10 [5.0] /500 [13.6 %][22.8 %][30.2 %][40.4 %][54.6 %][66.2 %][71.2 %][80.6 %][92.0 %][101.8 %] | Ended in 84.83 s\n"
     ]
    },
    {
     "data": {
      "image/png": "[encoded data removed]",
      "text/plain": [
       "<Figure size 432x288 with 1 Axes>"
      ]
     },
     "metadata": {
      "needs_background": "light"
     },
     "output_type": "display_data"
    }
   ],
   "source": [
    "import matplotlib.pyplot as plt\n",
    "import numpy as np\n",
    "\n",
    "from src.communications import Transmitter, AWGNChannel, Receiver\n",
    "from src.utils import *\n",
    "\n",
    "# Configuration\n",
    "MODULATION = 'BPSK'\n",
    "EbN0dBs = np.linspace(-10, 5, 10)\n",
    "G = get_fec_matrix('POLAR_8_16')\n",
    "\n",
    "# Initialization\n",
    "transmitter = Transmitter(MODULATION, G)\n",
    "receiver = Receiver(MODULATION, G)\n",
    "\n",
    "channel = AWGNChannel(get_bps(MODULATION), transmitter.block_length, transmitter.block_coded_length)\n",
    "\n",
    "if __name__ == '__main__':\n",
    "    BER = ber_performance(\n",
    "        EbN0dBs,\n",
    "        get_basic_channel_fct(transmitter, channel, receiver),\n",
    "        np.size(G, 0) * 1000,\n",
    "        500\n",
    "    )\n",
    "\n",
    "    # Plot results\n",
    "    plt.figure()\n",
    "    show_ber(MODULATION, EbN0dBs, BER)\n",
    "    plt.legend(['BPSK Theory', 'MAP simulation (Coded with Polar 8/16)'])\n",
    "    plt.show()\n",
    "    \n",
    "#     np.savetxt('outputs/BER_G_MAP.csv', [\n",
    "#         np.array(EbN0dBs),\n",
    "#         np.array(BER)\n",
    "#     ], delimiter=',')"
   ]
  }
 ],
 "metadata": {
  "colab": {
   "name": "2- MAP APP and ML.ipynb",
   "provenance": []
  },
  "kernelspec": {
   "display_name": "Python 3",
   "language": "python",
   "name": "python3"
  },
  "language_info": {
   "codemirror_mode": {
    "name": "ipython",
    "version": 3
   },
   "file_extension": ".py",
   "mimetype": "text/x-python",
   "name": "python",
   "nbconvert_exporter": "python",
   "pygments_lexer": "ipython3",
   "version": "3.7.6"
  }
 },
 "nbformat": 4,
 "nbformat_minor": 4
}
