{
 "cells": [
  {
   "cell_type": "markdown",
   "metadata": {
    "colab_type": "text",
    "id": "rTIDpPQVZqqH"
   },
   "source": [
    "# 2. Channel coding and detection: MAP and ML  "
   ]
  },
  {
   "cell_type": "markdown",
   "metadata": {
    "colab_type": "text",
    "id": "TEdNQ2HAZqqK"
   },
   "source": [
    "## Detection basics\n",
    "\n",
    "Let $u^k$ be a binary sequence which is to be transmitted through $n$ channel accesses to a memoryless noisy channel defined by a probability density $P_{Y|X}$, i.e. the channel takes as input the sequence $x^n$ and outputs a sequence $y^n$ with probability\n",
    "\n",
    "$$ P(y^n|x^n) = \\prod_{i=1}^n P_{Y|X} (y_i |x_i). $$ \n",
    "\n",
    "The sequence $u^k$ is mapped to the sequence $x^n$ through a mapping which could be an error correction code $f_e(\\cdot)$ concatenated with a constellation mapping. \n",
    "\n",
    "<img src=\"figs/ShannonPointToPoint.png\" width=\"600\">\n",
    "\n",
    "Our purpose is to detect from the received sequence $y^n$, an estimate $\\hat{u}^k$ of the initially transmitted sequence $u^k$. To this end, the receiver consists in a detection rule $f_d(\\cdot)$ which assigns to each sequence $y^n$ an estimate $\\hat{u}^k = f_d(y^n)$. \n",
    "\n",
    "N.B: In this course, we will focus only on deterministic detection rules. \n"
   ]
  },
  {
   "cell_type": "markdown",
   "metadata": {
    "colab_type": "text",
    "id": "UkXrO3yYZqqN"
   },
   "source": [
    "## Probability of error: misdetection \n",
    "\n",
    "To evaluate the performance of any detection rule $f_d(\\cdot)$, one needs to evaluate the average probability of error. We can define two types of error probabilities: the sequence (block) error probability and the bit error probability: \n",
    "\n",
    "- The sequence error probability is defined as \n",
    "$$ P_s(f_d) = \\mathbb{P} \\left(\\hat{U}^k \\neq U^k \\right).$$\n",
    "\n",
    "- The bit error probability is defined as \n",
    "$$ P_b(f_d) = \\dfrac{1}{k} \\sum_{i=1} \\mathbb{P} \\left(\\hat{U}_i \\neq U_i\\right).$$\n",
    "    \n",
    "Question: What is random in the computation of the error probabilities ? "
   ]
  },
  {
   "cell_type": "markdown",
   "metadata": {
    "colab_type": "raw",
    "id": "faLTStB-ZqqP"
   },
   "source": [
    "**Answer:** The noisy channel"
   ]
  },
  {
   "cell_type": "markdown",
   "metadata": {
    "colab_type": "text",
    "id": "uurp6zuzZqqV"
   },
   "source": [
    "In practice, the sequence error probability is approximated through Monte Carlo simulations with the Frame Error Rate (FER), or Packet Error Rate (PER), whilst the bit error probability is approximated with the Bit Error Rate (BER). \n",
    "\n",
    "In the following, we characterize the optimal detectors from both the bit and sequence error probabilities perspectives. "
   ]
  },
  {
   "cell_type": "markdown",
   "metadata": {
    "colab_type": "text",
    "id": "1O1ccaQEZqqX"
   },
   "source": [
    "##  Sequence detection: MAP, APP and ML \n",
    "\n",
    "The optimal detection rule $f_d(\\cdot)$ which minimizes the sequence probability of error is known as the Maximum A Posteriori (MAP) detector. This detector writes as\n",
    "\n",
    "$$\\hat{u}^k = f_{APP}(y^n) = \\underset{u^k}{argmax} \\  P\\left(u^k| y^n \\right)$$\n",
    "\n",
    "where the probability $P(u^k| y^n)$ is called the A Posterior Probability (APP). \n",
    "\n",
    "Question: Express the A Posterior probability $P\\left(u^k| y^n \\right)$ as a function of the channel probability $P_{Y|X}$, the prior distribution $P\\left(u^k \\right)$, and the mapping $f_e(\\cdot)$. "
   ]
  },
  {
   "cell_type": "markdown",
   "metadata": {
    "colab_type": "raw",
    "id": "3rnl2CBCZqqb"
   },
   "source": [
    "**Answer:** \n",
    "\n",
    "The FEC encoder is a deterministic and injective function. So, we have the following relation:\n",
    "\n",
    "$$P\\left(y^n| u^k \\right) = P\\left(y^n| f_e(u^k) \\right) = P\\left(y^n| x^k \\right)$$\n",
    "\n",
    "Using the Bayes formula :\n",
    "\n",
    "$$\n",
    "\\begin{align*}\n",
    "P\\left(u^k| y^n \\right) \n",
    "& = \\frac{P\\left(y^n| u^k \\right)P(u^k)}{P\\left(y^n\\right)} \\\\\n",
    "& = \\frac{P\\left(y^n| x^k \\right)P(u^k)}{P\\left(y^n\\right)} \\\\\n",
    "& = \\frac{P(u^k)\\prod_{i=1}^n P_{Y|X} (y_i |x_i)}{P\\left(y^n\\right)} \\\\\n",
    "& = \\boxed{\\frac{P(u^k)\\prod_{i=1}^n P_{Y|X} (y_i |f_{e_i}(u_i))}{P\\left(y^n\\right)}}\n",
    "\\end{align*}\n",
    "$$\n",
    "\n",
    "Using the total probability formula :\n",
    "\n",
    "$$\n",
    "\\begin{align*}\n",
    "P\\left(y^n\\right) \n",
    "& = \\sum_{u^k \\in~[0;1]^k} P(u^k)P(y^n|u^k) \\\\\n",
    "& = \\boxed{\\sum_{x^n \\in~\\mathbb{E}} P(u^k)P(y^n|x^n)}\n",
    "\\end{align*}\n",
    "$$\n",
    "\n",
    "Where $N$ is the total number of reachable words and $\\mathbb E = f_e([0;1]^k)$ is the space of all reachable words from the error corrector code."
   ]
  },
  {
   "cell_type": "markdown",
   "metadata": {
    "colab_type": "text",
    "id": "f_sSI2pcZqqe"
   },
   "source": [
    "In detection theory, we can as well define the so called ML detector given by \n",
    "\n",
    "$$\\hat{u}^k = f_{ML} (y^n) = \\underset{u^k}{argmax} \\  P\\left(y^n| u^k \\right) . $$ \n",
    "\n",
    "Question: Under which condition on the prior distribution $P\\left(u^k \\right) $ are the ML and MAP detectors equivalent? "
   ]
  },
  {
   "cell_type": "markdown",
   "metadata": {
    "colab_type": "raw",
    "id": "lY7kOqhfZqqf"
   },
   "source": [
    "**Answer**: According to previous questions\n",
    "\n",
    "\n",
    "$$\n",
    "\\begin{align*}\n",
    "f_{APP}(y^n) \n",
    "& = \\underset{u^k}{argmax} \\  P\\left(u^k| y^n \\right) \\\\\n",
    "& = \\underset{u^k}{argmax} \\ \\frac{P(u^k)\\prod_{i=1}^n P_{Y|X} (y_i |f_{e_i}(u_i))}{P\\left(y^n\\right)} \\\\\n",
    "& = \\boxed{\\underset{u^k}{argmax} \\ P(u^k)\\prod_{i=1}^n P_{Y|X} (y_i |f_{e_i}(u_i))}\n",
    "\\end{align*}\n",
    "$$\n",
    "\n",
    "$$\n",
    "\\begin{align*}\n",
    "f_{ML} (y^n) \n",
    "& = \\underset{u^k}{argmax} \\  P\\left(y^n| u^k \\right) \\\\\n",
    "& = \\boxed{\\underset{u^k}{argmax} \\ \\prod_{i=1}^n P_{Y|X} (y_i |f_{e_i}(u_i))}\n",
    "\\end{align*}\n",
    "$$ \n",
    "\n",
    "If $u^k$ follow an uniform repartition, we have $P(u^k) = \\dfrac{1}{2^k}$.\n",
    "\n",
    "So \n",
    "$$f_{APP}(y^n) = \\underset{u^k}{argmax} \\ \\frac{1}{2^k} \\prod_{i=1}^n P_{Y|X} (y_i |f_{e_i}(u_i)) = \\prod_{i=1}^n P_{Y|X} (y_i |f_{e_i}(u_i)) = f_{ML} (y^n)$$\n",
    "\n",
    "Now, if we suppose $f_{APP}(y^n) = f_{ML} (y^n)$ then \n",
    "$$\\underset{u^k}{argmax} \\ P(u^k)\\prod_{i=1}^n P_{Y|X} (y_i |f_{e_i}(u_i))=\\underset{u^k}{argmax} \\ \\prod_{i=1}^n P_{Y|X} (y_i |f_{e_i}(u_i))$$\n",
    "So for the two argmax to be equal $P(u^k)$ needs to be independant of sequence $u^k$ so it must follow a uniform repartition with $P(u^k)=\\dfrac{1}{2^k}$"
   ]
  },
  {
   "cell_type": "markdown",
   "metadata": {
    "colab_type": "text",
    "id": "4y6i3FKMZqqj"
   },
   "source": [
    "Question: Do you know of an algorithm which implements the sequence MAP detector? "
   ]
  },
  {
   "cell_type": "markdown",
   "metadata": {
    "colab_type": "raw",
    "id": "rTjNjj2KZqqk"
   },
   "source": [
    "**Answer**: "
   ]
  },
  {
   "cell_type": "markdown",
   "metadata": {
    "colab_type": "text",
    "id": "AXDUmDMWZqqm"
   },
   "source": [
    "Question: Consider a Gaussian channel with variance $\\sigma^2$, i.e.,\n",
    "\n",
    "  $$ P(y|x) = \\dfrac{1}{\\sqrt{2 \\pi \\sigma^2}} \\exp\\left( \\dfrac{-(y-x)^2}{2 \\sigma^2} \\right) , $$\n",
    "\n",
    "over which we wish to communicate a binary sequence of length $k$.\n",
    "\n",
    "Question: Write the sequence MAP criterion for a mapping $f_e(\\cdot)$ under the assumption of a uniform prior distribution $P(u^k) = 2^{-k} $. \n"
   ]
  },
  {
   "cell_type": "markdown",
   "metadata": {
    "colab_type": "raw",
    "id": "oONQ-d5nZqqo"
   },
   "source": [
    "**Answer**:  \n",
    "\n",
    "$$\n",
    "\\begin{align*}\n",
    "f_{APP}(y^n) \n",
    "& = \\underset{u^k}{argmax} \\prod_{i=1}^n P_{Y|X} (y_i^n |f_{e_i}(u^k)) \\\\\n",
    "& = \\underset{u^k}{argmax}\\prod_{i=1}^n \\dfrac{1}{\\sqrt{2 \\pi \\sigma^2}} \\exp\\left( \\dfrac{-(y_i^n-f_{e_i}(u^k))^2}{2 \\sigma^2} \\right) \\\\\n",
    "& = \\underset{u^k}{argmax} \\sum_{i=1}^n-(y_i^n-f_{e_i}(u^k))^2 \\\\\n",
    "& = \\underset{x^n \\ \\in \\ \\mathbb E}{argmin}\\sum_{i=1}^n d(y_i^n,x_i^n)^2 \\\\\n",
    "& = \\underset{x^n \\ \\in \\ \\mathbb E}{argmin}~d(y^n,x^n)^2 \\\\\n",
    "& = \\boxed{\\underset{x^n \\ \\in \\ \\mathbb E}{argmin}~d(y^n,x^n)}\n",
    "\\end{align*}\n",
    "$$\n",
    "\n",
    "Where $\\mathbb E = f_e([0;1]^k)$ is the space of all reachable words from the error corrector code\n"
   ]
  },
  {
   "cell_type": "markdown",
   "metadata": {
    "colab_type": "text",
    "id": "bUwmxc2dZqqp"
   },
   "source": [
    "Question: Consider a Binary Symmetric Channel with crossover probability $p$, i.e., \n",
    "\n",
    "  $$ P(y|x) =  p^{x \\oplus y} (1-p)^{1 - x \\oplus y}  , $$\n",
    "  \n",
    "over which we wish to communicate a binary sequence of length $k$. Write the sequence MAP criterion for a mapping $f_e(\\cdot)$ under the assumption of a uniform prior distribution $P(u^k) = 2^{-k} $. \n"
   ]
  },
  {
   "cell_type": "markdown",
   "metadata": {
    "colab_type": "raw",
    "id": "3zqo5fVdZqqq"
   },
   "source": [
    "**Answer**: $$ \\underset{u^k}{argmax}~ P(y^n|x^n) = p^{x^n \\oplus y^n} (1-p)^{1 - x^n \\oplus y^n} = \\underset{u^n}{argmax}~\\left( \\dfrac{p}{1-p}\\right)^{x^n \\oplus y^n}, $$\n",
    "Since $p\\leq \\dfrac{1}{2}$ generally then $\\dfrac{p}{1-p}  \\in [0;1]$ we have : \n",
    "$$\\underset{u^k}{argmax}~P(y^n|x^n) = \\underset{u^k}{argmin}~{x^n \\oplus y^n}=\\underset{x^n}{argmin}~d_{Hamming}(y^n,x^n)$$"
   ]
  },
  {
   "cell_type": "markdown",
   "metadata": {
    "colab_type": "text",
    "id": "xf4Ab9orZqqs"
   },
   "source": [
    "Question: In the case of uncoded BPSK communication over an AWGN channel, prove that the MAP criterion amounts to a threshold detector and give the value of the threshold. "
   ]
  },
  {
   "cell_type": "markdown",
   "metadata": {
    "colab_type": "raw",
    "id": "7teLh06EZqqt"
   },
   "source": [
    "**Answer**: \n",
    "Let's first consider the transmission of a sequence of one bit over an AWGN channel.\n",
    "\n",
    "We've shown before that : \n",
    "$$\n",
    "\\begin{align*}\n",
    "f_{APP}(y)\n",
    "& = \\underset{u\\in~ {0,1}}{argmax}~\\dfrac{1}{\\sqrt{2 \\pi \\sigma^2}} \\exp\\left( \\dfrac{-(y-f_{e}(u))^2}{2 \\sigma^2} \\right)\\\\\n",
    "& = \\underset{x\\in~ {-1,1}}{argmax}~  \\bigg\\{ \\dfrac{1}{\\sqrt{2 \\pi \\sigma^2}} \\exp\\left( \\dfrac{-(y+1)^2}{2 \\sigma^2} \\right) , \\dfrac{1}{\\sqrt{2 \\pi \\sigma^2}} \\exp\\left( \\dfrac{-(y-1)^2}{2 \\sigma^2} \\right) \\bigg\\}\\\\\n",
    "& = \\underset{x\\in~ {-1,1}}{argmin}~\\big\\{d(y,-1),d(y,1)\\big\\}\\\\\n",
    "& = \\underset{x\\in~ {-1,1}}{argmin}~\\big\\{(y+1)^2,(y-1)^2\\big\\}\n",
    "\\end{align*}\n",
    "$$\n",
    "\n",
    "Wich give a threshold of $y=0$ (because $(y+1)^2>(y-1)^2 \\Rightarrow y>0$)\n",
    "\n",
    "We can then generalize for a sequence of $k$ bits, we have then a threshold for every $y_i^n$ which is 0.\n",
    "With an other consteThe threshold"
   ]
  },
  {
   "cell_type": "markdown",
   "metadata": {
    "colab_type": "text",
    "id": "GS0e578jZqqu"
   },
   "source": [
    "##  Bit detection:  MAP and APP  \n",
    "\n",
    "The optimal detection rule from a bit error probability is called the bit-MAP detector. This detector writes as: \n",
    "\n",
    "$$\\hat{u}_i = f_{APP}(y^n) = \\underset{u_i}{argmax} \\  P(u_i| y^n) . $$\n",
    "\n",
    "Question: Express the A Posterior probability $P(u_i| y^n)$ as a function of the channel probability $P_{Y|X}$ and the prior distribution $P(u^k)$. "
   ]
  },
  {
   "cell_type": "markdown",
   "metadata": {
    "colab_type": "raw",
    "id": "rAb68321Zqqv"
   },
   "source": [
    "Answer: \n",
    "\n",
    "$$\n",
    "\\begin{align*}\n",
    "P(u_i| y^n)\n",
    "& = \\frac{P\\left(y^n| u_i \\right)P(u_i)}{P\\left(y^n\\right)} \\\\\n",
    "& = \\frac{P(u_i) P_{Y|X} (y^n_i | u_i)}{P\\left(y^n\\right)}\n",
    "\\end{align*}\n",
    "$$"
   ]
  },
  {
   "cell_type": "markdown",
   "metadata": {
    "colab_type": "text",
    "id": "a4gyQJGLZqqv"
   },
   "source": [
    "Question: Do you know of an algorithm to implement the bit-MAP detector? "
   ]
  },
  {
   "cell_type": "markdown",
   "metadata": {
    "colab_type": "raw",
    "id": "lKi-DeP3Zqq6"
   },
   "source": [
    "Answer"
   ]
  },
  {
   "cell_type": "markdown",
   "metadata": {
    "colab_type": "text",
    "id": "9-1GRY4yZqq7"
   },
   "source": [
    "## Detection over classical channels"
   ]
  },
  {
   "cell_type": "markdown",
   "metadata": {
    "colab_type": "text",
    "id": "VJYkM_omZqq7"
   },
   "source": [
    "###  1. Uncoded transmissions: AWGN and BSC channels\n",
    "\n",
    "Based on the communication chain you implemented previously, simulate and compute the BER of the MAP sequence decoder for uncoded communication over an AWGN channel. Compare its performance with the theoretic curve of BER as a function of $E_b/N_0$. Comment. "
   ]
  },
  {
   "cell_type": "code",
   "execution_count": 2,
   "metadata": {
    "colab": {},
    "colab_type": "code",
    "id": "b2vaSM5iZqq8"
   },
   "outputs": [
    {
     "name": "stdout",
     "output_type": "stream",
     "text": [
      "Start EbN0 1/10 -15.0\n",
      "Auto switch mode\n",
      "Start EbN0 2/10 -12.444444444444445\n",
      "Start EbN0 3/10 -9.88888888888889\n",
      "Start EbN0 4/10 -7.333333333333334\n",
      "Start EbN0 5/10 -4.777777777777779\n",
      "Start EbN0 6/10 -2.222222222222223\n",
      "Start EbN0 7/10 0.33333333333333215\n",
      "Start EbN0 8/10 2.8888888888888857\n",
      "Start EbN0 9/10 5.444444444444443\n",
      "Start EbN0 10/10 8.0\n"
     ]
    },
    {
     "data": {
      "image/png": "[encoded data removed]",
      "text/plain": [
       "<Figure size 432x288 with 1 Axes>"
      ]
     },
     "metadata": {
      "needs_background": "light"
     },
     "output_type": "display_data"
    }
   ],
   "source": [
    "# -*- coding: utf-8 -*-\n",
    "import matplotlib.pyplot as plt\n",
    "import numpy as np\n",
    "\n",
    "from src.communications import Transmitter, AWGNChannel, Receiver\n",
    "from src.utils import ber_performance, get_basic_channel_fct, show_ber\n",
    "\n",
    "# Configuration\n",
    "MODULATION = 'BPSK'\n",
    "EbN0dBs = np.linspace(-15, 8, 10)\n",
    "\n",
    "# Initialization\n",
    "transmitter = Transmitter(MODULATION)\n",
    "channel = AWGNChannel(MODULATION)\n",
    "receiver = Receiver(MODULATION)\n",
    "\n",
    "if __name__ == '__main__':\n",
    "    BER = ber_performance(\n",
    "        EbN0dBs,\n",
    "        get_basic_channel_fct(transmitter, channel, receiver),\n",
    "        1000,\n",
    "        100\n",
    "    )\n",
    "\n",
    "    # Plot results\n",
    "    plt.figure()\n",
    "    show_ber(MODULATION, EbN0dBs, BER)\n",
    "    plt.show()"
   ]
  },
  {
   "cell_type": "markdown",
   "metadata": {
    "colab_type": "text",
    "id": "Gcsg5CDQZqrA"
   },
   "source": [
    "###  2. Coded transmission: "
   ]
  },
  {
   "cell_type": "markdown",
   "metadata": {
    "colab_type": "text",
    "id": "b_Y6IT1hZqrB"
   },
   "source": [
    "Based on the communication chain you implemented previously, simulate and compute the BER of the MAP sequence decoder for communication over an AWGN channel with a given linear block error correction code: use the following generator matrix of a polar code: \n",
    "\n",
    "G = array([[1, 1, 1, 1, 0, 0, 0, 0, 0, 0, 0, 0, 0, 0, 0, 0],\n",
    "       [1, 1, 0, 0, 1, 1, 0, 0, 0, 0, 0, 0, 0, 0, 0, 0],\n",
    "       [1, 1, 1, 1, 1, 1, 1, 1, 0, 0, 0, 0, 0, 0, 0, 0],\n",
    "       [1, 1, 0, 0, 0, 0, 0, 0, 1, 1, 0, 0, 0, 0, 0, 0],\n",
    "       [1, 1, 1, 1, 0, 0, 0, 0, 1, 1, 1, 1, 0, 0, 0, 0],\n",
    "       [1, 1, 0, 0, 1, 1, 0, 0, 1, 1, 0, 0, 1, 1, 0, 0],\n",
    "       [1, 0, 1, 0, 1, 0, 1, 0, 1, 0, 1, 0, 1, 0, 1, 0],\n",
    "       [1, 1, 1, 1, 1, 1, 1, 1, 1, 1, 1, 1, 1, 1, 1, 1]])"
   ]
  },
  {
   "cell_type": "code",
   "execution_count": 4,
   "metadata": {
    "colab": {
     "base_uri": "https://localhost:8080/",
     "height": 34
    },
    "colab_type": "code",
    "executionInfo": {
     "elapsed": 654,
     "status": "ok",
     "timestamp": 1581411275010,
     "user": {
      "displayName": "Thibault Piana",
      "photoUrl": "https://lh3.googleusercontent.com/a-/AAuE7mBBEkRBFiuL8UuI8IqCO-yLr4I915lnrATVAqmiRQ=s64",
      "userId": "06996799130223842064"
     },
     "user_tz": -60
    },
    "id": "0ulbuaKlZqrB",
    "outputId": "741c7c81-be3c-4ff0-ee9a-d3e8df0bbdfa"
   },
   "outputs": [
    {
     "name": "stdout",
     "output_type": "stream",
     "text": [
      "Start EbN0 1/50 [7.0] /500 [2][6][8][11][15][16][18][21][24][32][35][39][41][47][51][54][57][58][62][65][71][76][78][82][86][92][95][98][100][104][106][109][110][112][114][115][117][119][121][127][131][133][136][140][147][153][157][159][162][164][168][174][181][183][187][192][193][195][197][198][202][205][207][209][210][212][214][216][217][221][224][230][234][238][239][243][247][251][252][256][258][262][264][265][269][275][279][280][284][288][292][299][303][305][309][313][315][318][320][324][325][327][328][330][334][338][342][344][347][352][354][355][361][363][369][371][372][374][378][379][383][386][392][393][396][398][400][406][418][421][428][429][435][442][446][458][460][464][467][469][472][474][477][479][481][483][485][486][493][495][498][500] | Ended in 3384.75 s\n",
      "Start EbN0 2/50 [6.55] /500 [4][6][10][12][16][17][20][24][29][31][35][38][42][44][45][46][53][57][59][63][67][69][74][80][88][92][99][102][105][109][111][115][117][121][125][131][132][136][139][141][143][146][148][150][153][155][159][161][169][170][173][175][178][179][181][182][183][190][193][200][204][205][207][208][210][211][214][216][220][224][230][240][241][245][248][252][256][260][266][269][272][278][282][284][288][295][305][309][315][323][327][334][338][342][348][354][357][358][359][361][363][366][368][371][375][377][379][382][387][391][392][396][402][406][410][412][416][423][427][429][431][435][439][441][447][451][454][458][463][468][472][476][478][482][484][488][490][497][501] | Ended in 1570.08 s\n",
      "Start EbN0 3/50 [6.1] /500 [2][15][19][21][24][26][28][32][40][44][52][54][58][64][67][70][80][87][89][93][96][103][106][111][115][123][125][127][131][133][139][141][142][146][148][152][158][164][166][172][174][178][182][185][193][202][204][213][219][223][233][235][239][247][253][257][258][260][266][271][274][275][278][288][289][293][296][300][302][309][313][315][322][324][331][335][341][343][347][353][361][367][374][376][380][388][392][400][403][405][407][420][424][432][438][444][459][463][473][475][477][479][483][485][487][488][494][498][502] | Ended in 446.82 s\n",
      "Start EbN0 4/50 [5.65] /500 [18][22][24][35][42][48][54][68][70][76][80][86][90][100][108][120][125][131][137][141][149][163][178][181][182][193][207][209][221][225][228][237][244][250][261][263][267][277][281][288][294][307][311][321][325][329][346][353][363][371][374][376][385][387][393][399][406][408][414][418][429][433][440][444][455][461][473][477][482][492][496][498][514] | Ended in 200.79 s\n",
      "Start EbN0 5/50 [5.2] /500 [8][20][54][56][66][73][83][100][117][124][134][156][177][189][196][211][220][229][237][252][271][285][304][321][330][336][352][362][376][392][406][425][437][441][455][467][491][495][506] | Ended in 110.11 s\n",
      "Start EbN0 6/50 [4.76] /500 [8][10][23][56][87][111][125][148][162][188][210][220][256][283][302][337][349][364][389][406][422][443][460][468][496][508] | Ended in 69.85 s\n",
      "Start EbN0 7/50 [4.31] /500 [41][74][96][135][166][211][283][330][350][385][418][460][499][532] | Ended in 42.65 s\n",
      "Start EbN0 8/50 [3.86] /500 [45][119][182][265][329][395][459][553] | Ended in 24.67 s\n",
      "Start EbN0 9/50 [3.41] /500 [101][210][319][425][492][564] | Ended in 16.59 s\n",
      "Start EbN0 10/50 [2.96] /500 [175][365][486][656] | Ended in 10.94 s\n",
      "Start EbN0 11/50 [2.51] /500 [214][449][684] | Ended in 8.38 s\n",
      "Start EbN0 12/50 [2.06] /500 [330][657] | Ended in 5.14 s\n",
      "Start EbN0 13/50 [1.61] /500 [416][846] | Ended in 6.05 s\n",
      "Start EbN0 14/50 [1.16] /500 [674] | Ended in 3.02 s\n",
      "Start EbN0 15/50 [0.71] /500 [784] | Ended in 2.78 s\n",
      "Start EbN0 16/50 [0.27] /500 [881] | Ended in 2.91 s\n",
      "Start EbN0 17/50 [-0.18] /500 [1117] | Ended in 2.81 s\n",
      "Start EbN0 18/50 [-0.63] /500 [1306] | Ended in 3.12 s\n",
      "Start EbN0 19/50 [-1.08] /500 [1490] | Ended in 2.8 s\n",
      "Start EbN0 20/50 [-1.53] /500 [1624] | Ended in 3.06 s\n",
      "Start EbN0 21/50 [-1.98] /500 [1906] | Ended in 3.57 s\n",
      "Start EbN0 22/50 [-2.43] /500 [2008] | Ended in 2.45 s\n",
      "Start EbN0 23/50 [-2.88] /500 [2114] | Ended in 2.53 s\n",
      "Start EbN0 24/50 [-3.33] /500 [2332] | Ended in 2.58 s\n",
      "Start EbN0 25/50 [-3.78] /500 [2556] | Ended in 2.57 s\n",
      "Start EbN0 26/50 [-4.22] /500 [2649] | Ended in 2.85 s\n",
      "Start EbN0 27/50 [-4.67] /500 [2741] | Ended in 2.95 s\n",
      "Start EbN0 28/50 [-5.12] /500 [2985] | Ended in 2.71 s\n",
      "Start EbN0 29/50 [-5.57] /500 [2942] | Ended in 3.51 s\n",
      "Start EbN0 30/50 [-6.02] /500 [3123] | Ended in 3.35 s\n",
      "Start EbN0 31/50 [-6.47] /500 [3171] | Ended in 3.55 s\n",
      "Start EbN0 32/50 [-6.92] /500 [3160] | Ended in 4.18 s\n",
      "Start EbN0 33/50 [-7.37] /500 [3344] | Ended in 3.22 s\n",
      "Start EbN0 34/50 [-7.82] /500 [3413] | Ended in 3.32 s\n",
      "Start EbN0 35/50 [-8.27] /500 [3529] | Ended in 3.55 s\n",
      "Start EbN0 36/50 [-8.71] /500 [3563] | Ended in 3.76 s\n",
      "Start EbN0 37/50 [-9.16] /500 [3474] | Ended in 3.13 s\n",
      "Start EbN0 38/50 [-9.61] /500 [3611] | Ended in 3.42 s\n",
      "Start EbN0 39/50 [-10.06] /500 [3656] | Ended in 2.93 s\n",
      "Start EbN0 40/50 [-10.51] /500 [3640] | Ended in 3.16 s\n",
      "Start EbN0 41/50 [-10.96] /500 [3680] | Ended in 4.71 s\n",
      "Start EbN0 42/50 [-11.41] /500 [3727] | Ended in 4.12 s\n",
      "Start EbN0 43/50 [-11.86] /500 [3826] | Ended in 5.24 s\n",
      "Start EbN0 44/50 [-12.31] /500 [3768] | Ended in 5.78 s\n",
      "Start EbN0 45/50 [-12.76] /500 [3806] | Ended in 6.46 s\n",
      "Start EbN0 46/50 [-13.2] /500 [3805] | Ended in 4.96 s\n",
      "Start EbN0 47/50 [-13.65] /500 [3786] | Ended in 5.0 s\n",
      "Start EbN0 48/50 [-14.1] /500 [3847] | Ended in 6.17 s\n",
      "Start EbN0 49/50 [-14.55] /500 [3760] | Ended in 5.12 s\n",
      "Start EbN0 50/50 [-15.0] /500 [3880] | Ended in 5.08 s\n"
     ]
    },
    {
     "data": {
      "image/png": "[encoded data removed]",
      "text/plain": [
       "<Figure size 432x288 with 1 Axes>"
      ]
     },
     "metadata": {
      "needs_background": "light"
     },
     "output_type": "display_data"
    }
   ],
   "source": [
    "# -*- coding: utf-8 -*-\n",
    "import matplotlib.pyplot as plt\n",
    "import numpy as np\n",
    "\n",
    "from src.communications import Transmitter, AWGNChannel, Receiver, ReceiverMode\n",
    "from src.utils import ber_performance, get_basic_channel_fct, show_ber, get_fec_matrix\n",
    "\n",
    "# Configuration\n",
    "MODULATION = 'BPSK'\n",
    "EbN0dBs = np.linspace(-15, 7, 50)\n",
    "G = get_fec_matrix('POLAR_8_16')\n",
    "\n",
    "# Initialization\n",
    "transmitter = Transmitter(MODULATION, G)\n",
    "channel = AWGNChannel(MODULATION, G)\n",
    "receiver = Receiver(MODULATION, G, ReceiverMode.MAP)\n",
    "\n",
    "if __name__ == '__main__':\n",
    "    BER = ber_performance(\n",
    "        EbN0dBs[::-1],\n",
    "        get_basic_channel_fct(transmitter, channel, receiver),\n",
    "        np.size(G, 0) * 1000,\n",
    "        500\n",
    "    )[::-1]\n",
    "\n",
    "    # Plot results\n",
    "    plt.figure()\n",
    "    show_ber(MODULATION, EbN0dBs, BER)\n",
    "    plt.show()\n",
    "\n",
    "    np.savetxt('BER_G_MAP.csv', [\n",
    "        np.array(EbN0dBs),\n",
    "        np.array(BER)\n",
    "    ], delimiter=',')\n"
   ]
  }
 ],
 "metadata": {
  "colab": {
   "name": "2- MAP APP and ML.ipynb",
   "provenance": []
  },
  "kernelspec": {
   "display_name": "Python 3",
   "language": "python",
   "name": "python3"
  },
  "language_info": {
   "codemirror_mode": {
    "name": "ipython",
    "version": 3
   },
   "file_extension": ".py",
   "mimetype": "text/x-python",
   "name": "python",
   "nbconvert_exporter": "python",
   "pygments_lexer": "ipython3",
   "version": "3.7.3"
  }
 },
 "nbformat": 4,
 "nbformat_minor": 4
}
