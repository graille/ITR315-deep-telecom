{
 "cells": [
  {
   "cell_type": "markdown",
   "metadata": {
    "colab_type": "text",
    "id": "ug2m-zsT0ij-"
   },
   "source": [
    "# Auto-encoder\n"
   ]
  },
  {
   "cell_type": "code",
   "execution_count": 3,
   "metadata": {
    "colab": {},
    "colab_type": "code",
    "id": "RY4pckrQ0ikB"
   },
   "outputs": [
    {
     "name": "stdout",
     "output_type": "stream",
     "text": [
      "Model: \"sequential_6\"\n",
      "_________________________________________________________________\n",
      "Layer (type)                 Output Shape              Param #   \n",
      "=================================================================\n",
      "sequential_4 (Sequential)    (None, 16)                12016     \n",
      "_________________________________________________________________\n",
      "gaussian_noise_2 (GaussianNo (None, 16)                0         \n",
      "_________________________________________________________________\n",
      "sequential_5 (Sequential)    (None, 8)                 12008     \n",
      "=================================================================\n",
      "Total params: 24,024\n",
      "Trainable params: 24,024\n",
      "Non-trainable params: 0\n",
      "_________________________________________________________________\n",
      "None\n",
      "Elapsed : 579.44 s\n"
     ]
    }
   ],
   "source": [
    "###### -*- coding: utf-8 -*-\n",
    "import matplotlib.pyplot as plt\n",
    "import numpy as np\n",
    "import keras \n",
    "import time\n",
    "\n",
    "from keras.models import Sequential\n",
    "from keras.utils import plot_model\n",
    "from keras.layers import Dense, Dropout, Activation, GaussianNoise\n",
    "from keras.optimizers import SGD\n",
    "\n",
    "from src.utils import *\n",
    "\n",
    "# Load data\n",
    "k = 8\n",
    "n = 16\n",
    "\n",
    "elements = list(get_all_possible_words(k))\n",
    "\n",
    "def train_autoencoder(EbN0dB, nb_epochs=10_000):\n",
    "    # Create models\n",
    "    # Encoder\n",
    "    encoder_model=Sequential()\n",
    "    encoder_model.add(Dense(128, activation='relu', input_dim=k))\n",
    "    encoder_model.add(Dense(64, activation='relu'))\n",
    "    encoder_model.add(Dense(32, activation='relu'))\n",
    "    \n",
    "    encoder_model.add(Dense(n, activation='tanh')) # We use tanh for BPSK\n",
    "\n",
    "    # Decoder\n",
    "    decoder_model=Sequential()\n",
    "    decoder_model.add(Dense(32, activation='relu', input_dim=n))\n",
    "    decoder_model.add(Dense(64, activation='relu'))\n",
    "    decoder_model.add(Dense(128, activation='relu'))\n",
    "    decoder_model.add(Dense(k, activation='sigmoid')) # We use sigmoid for bits\n",
    "\n",
    "    # Merge both to autoencoder\n",
    "    noise_power = calculate_noise_power(EbN0dB, 1, k, n, 1)\n",
    "    noise_std = np.sqrt(1./2. * noise_power)\n",
    "    noisy_model=Sequential()\n",
    "    noisy_model.add(encoder_model)\n",
    "    noisy_model.add(GaussianNoise(noise_std, input_shape=(n,)))\n",
    "    noisy_model.add(decoder_model)\n",
    "\n",
    "    noisy_model.compile(\n",
    "        optimizer='adam',\n",
    "        loss='mean_squared_error',\n",
    "        metrics=['accuracy']\n",
    "    )\n",
    "    \n",
    "    print(noisy_model.summary())\n",
    "    \n",
    "    t = time.time()\n",
    "    noisy_history = noisy_model.fit(\n",
    "        np.array(elements), \n",
    "        np.array(elements), \n",
    "        epochs=nb_epochs, \n",
    "        verbose=0\n",
    "    )\n",
    "    print(f'Elapsed : {np.round(time.time() - t, 2)} s')\n",
    "    \n",
    "    # Save models\n",
    "    encoder_model.save(f'networks/autoencoder/autoencoder_encoder_{EbN0dB}-{nb_epochs}.h5')\n",
    "    decoder_model.save(f'networks/autoencoder/autoencoder_decoder_{EbN0dB}-{nb_epochs}.h5')\n",
    "\n",
    "if __name__ == '__main__':\n",
    "    # Tests have shown best results for 5dB noise\n",
    "    train_autoencoder(5)\n",
    "    "
   ]
  },
  {
   "cell_type": "code",
   "execution_count": 1,
   "metadata": {},
   "outputs": [
    {
     "name": "stderr",
     "output_type": "stream",
     "text": [
      "Using TensorFlow backend.\n",
      "C:\\Users\\Thibault\\Anaconda3\\envs\\PythonGPU\\lib\\site-packages\\keras\\engine\\saving.py:341: UserWarning: No training configuration found in save file: the model was *not* compiled. Compile it manually.\n",
      "  warnings.warn('No training configuration found in save file: '\n"
     ]
    },
    {
     "name": "stdout",
     "output_type": "stream",
     "text": [
      "\n",
      "Start simulation with network trained at 5 dB and 10000 epochs\n",
      "Start EbN0 1/10 [-5.0] /1000 [163.5 %] | Ended in 0.41 s\n",
      "Start EbN0 2/10 [-3.56] /1000 [143.1 %] | Ended in 0.05 s\n",
      "Start EbN0 3/10 [-2.11] /1000 [104.4 %] | Ended in 0.06 s\n",
      "Start EbN0 4/10 [-0.67] /1000 [74.7 %][151.8 %] | Ended in 0.11 s\n",
      "Start EbN0 5/10 [0.78] /1000 [49.4 %][98.9 %][149.1 %] | Ended in 0.17 s\n",
      "Start EbN0 6/10 [2.22] /1000 [29.1 %][54.4 %][83.1 %][110.9 %] | Ended in 0.2 s\n",
      "Start EbN0 7/10 [3.67] /1000 [12.4 %][27.0 %][39.6 %][51.3 %][63.3 %][76.9 %][88.2 %][101.0 %] | Ended in 0.41 s\n",
      "Start EbN0 8/10 [5.11] /1000 [10.8 %][21.4 %][32.3 %][41.6 %][52.9 %][61.6 %][70.6 %][84.7 %][94.7 %][104.3 %] | Ended in 1.16 s\n",
      "Start EbN0 9/10 [6.56] /1000 [11.3 %][21.3 %][30.3 %][41.3 %][50.2 %][60.2 %][70.3 %][80.3 %][90.3 %][100.5 %] | Ended in 5.1 s\n",
      "Start EbN0 10/10 [8.0] /1000 [10.1 %][20.4 %][30.3 %][40.3 %][50.1 %][60.1 %][70.5 %][80.6 %][90.4 %][100.1 %] | Ended in 25.28 s\n"
     ]
    },
    {
     "data": {
      "image/png": "[encoded data removed]",
      "text/plain": [
       "<Figure size 432x288 with 1 Axes>"
      ]
     },
     "metadata": {
      "needs_background": "light"
     },
     "output_type": "display_data"
    },
    {
     "name": "stdout",
     "output_type": "stream",
     "text": [
      "Elapsed : 34.88 s\n"
     ]
    }
   ],
   "source": [
    "import os\n",
    "import matplotlib.pyplot as plt\n",
    "import numpy as np\n",
    "import keras \n",
    "import time\n",
    "\n",
    "from keras.models import load_model\n",
    "\n",
    "from src.communications import *\n",
    "from src.utils import *\n",
    "\n",
    "# Configuration\n",
    "EbN0dBs = np.linspace(-5, 8, 10)\n",
    "\n",
    "BPS = 1\n",
    "k = 8\n",
    "n = 16\n",
    "\n",
    "channel = AWGNChannel(BPS, k, n)\n",
    "\n",
    "block_elements = list(get_all_possible_words(k))\n",
    "\n",
    "def get_channel_fct(encoder_model, decoder_model):\n",
    "    transmitter = NetworkTransmitter(k, n, encoder_model, NeuralNetworkType.INTEGER)\n",
    "    receiver = NetworkReceiver(k, n, decoder_model, NeuralNetworkType.INTEGER)\n",
    "    \n",
    "    return get_basic_channel_fct(transmitter, channel, receiver)\n",
    "\n",
    "    \n",
    "if __name__ == '__main__':\n",
    "    t = time.time()\n",
    "    \n",
    "    # Get all trained networks\n",
    "    elts = {}\n",
    "    for file in os.listdir(\"networks/autoencoder\"):\n",
    "        if file.endswith(\".h5\"):\n",
    "            [_, elt_type, elt_db] = file.replace('.h5', '').split('_')\n",
    "            if elt_db not in elts.keys():\n",
    "                elts[elt_db] = {}\n",
    "            \n",
    "            elts[elt_db][elt_type] = load_model(f'networks/autoencoder/{file}')\n",
    "    \n",
    "    # Plot results\n",
    "    [EbN0dBs_C, BER_C] = np.loadtxt('outputs/BER_G_MAP.csv', delimiter=',')\n",
    "    \n",
    "    plt.figure()\n",
    "    \n",
    "    # Simulation\n",
    "    legend = []\n",
    "    symbols = ['+', 'x', 'o', '*']\n",
    "    for (i, training_EbN0dB) in enumerate(elts.keys()):\n",
    "        [t_db, t_epochs] = training_EbN0dB.split('-')\n",
    "        \n",
    "        print(f'\\nStart simulation with network trained at {t_db} dB and {t_epochs} epochs')\n",
    "        legend.append(f'Training with {t_db} dB and {t_epochs} epochs')\n",
    "        \n",
    "        BER = ber_performance(\n",
    "            EbN0dBs,\n",
    "            get_channel_fct(\n",
    "                elts[training_EbN0dB]['encoder'], \n",
    "                elts[training_EbN0dB]['decoder']\n",
    "            ),\n",
    "            k * 1000,\n",
    "            1000\n",
    "        )\n",
    "        plt.plot(EbN0dBs, BER, symbols[i % len(symbols)] + '-')\n",
    "        \n",
    "        np.savetxt(\n",
    "            f'outputs/BER_autoencoder_{training_EbN0dB}.csv', \n",
    "            [np.array(EbN0dBs), np.array(BER)], delimiter=','\n",
    "        )\n",
    "\n",
    "    plt.plot(EbN0dBs_C, BER_C)\n",
    "    plt.legend(legend + ['MAP'])\n",
    "    plt.grid()\n",
    "    \n",
    "    plt.xlabel('$\\\\frac{E_b}{N_0}$ in (dB)')\n",
    "    plt.ylabel('$P_e$')\n",
    "    plt.yscale('log')\n",
    "    plt.xlim(np.min(EbN0dBs), np.max(EbN0dBs))\n",
    "    \n",
    "    plt.show()\n",
    "    \n",
    "    print(f'Elapsed : {np.round(time.time() - t, 2)} s')\n"
   ]
  },
  {
   "cell_type": "markdown",
   "metadata": {},
   "source": [
    "We have done numerous tests on several noise values, and with several types of networks.\n",
    "The analysis of the results showed that the best performances were obtained with a butterfly shaped network, and with a training noise of 5 dB.\n",
    "\n",
    "The graph presented above was trained with 10 000 epochs, the increase of the number of epochs allows to lower the curve in the high values of the signal-to-noise ratio, but does not really change the intersection point with the curve. An additional bibliographical study has shown that a cut-off around 2dB was the best that could be done at the moment."
   ]
  }
 ],
 "metadata": {
  "colab": {
   "name": "5- Neural based channel decoders.ipynb",
   "provenance": []
  },
  "kernelspec": {
   "display_name": "Python 3",
   "language": "python",
   "name": "python3"
  },
  "language_info": {
   "codemirror_mode": {
    "name": "ipython",
    "version": 3
   },
   "file_extension": ".py",
   "mimetype": "text/x-python",
   "name": "python",
   "nbconvert_exporter": "python",
   "pygments_lexer": "ipython3",
   "version": "3.7.6"
  }
 },
 "nbformat": 4,
 "nbformat_minor": 4
}
