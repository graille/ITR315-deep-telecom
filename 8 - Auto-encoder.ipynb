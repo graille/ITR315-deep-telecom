{
 "cells": [
  {
   "cell_type": "markdown",
   "metadata": {
    "colab_type": "text",
    "id": "ug2m-zsT0ij-"
   },
   "source": [
    "# Auto-encoder\n"
   ]
  },
  {
   "cell_type": "code",
   "execution_count": 55,
   "metadata": {
    "colab": {},
    "colab_type": "code",
    "id": "RY4pckrQ0ikB"
   },
   "outputs": [
    {
     "name": "stdout",
     "output_type": "stream",
     "text": [
      "Model: \"sequential_48\"\n",
      "_________________________________________________________________\n",
      "Layer (type)                 Output Shape              Param #   \n",
      "=================================================================\n",
      "sequential_46 (Sequential)   (None, 16)                10448     \n",
      "_________________________________________________________________\n",
      "gaussian_noise_16 (GaussianN (None, 16)                0         \n",
      "_________________________________________________________________\n",
      "sequential_47 (Sequential)   (None, 8)                 10440     \n",
      "=================================================================\n",
      "Total params: 20,888\n",
      "Trainable params: 20,888\n",
      "Non-trainable params: 0\n",
      "_________________________________________________________________\n",
      "None\n",
      "Elapsed : 525.92 s\n"
     ]
    }
   ],
   "source": [
    "###### -*- coding: utf-8 -*-\n",
    "import matplotlib.pyplot as plt\n",
    "import numpy as np\n",
    "import keras \n",
    "import time\n",
    "\n",
    "from keras.models import Sequential\n",
    "from keras.utils import plot_model\n",
    "from keras.layers import Dense, Dropout, Activation, GaussianNoise\n",
    "from keras.optimizers import SGD\n",
    "\n",
    "from src.utils import ber_performance, get_basic_channel_fct, show_ber, get_all_possible_words\n",
    "\n",
    "# Configuration\n",
    "MODULATION = 'BPSK'\n",
    "FEC_MATRIX = 'POLAR_8_16'\n",
    "\n",
    "# Load data\n",
    "k = 8\n",
    "n = 16\n",
    "\n",
    "elements = list(get_all_possible_words(k))\n",
    "\n",
    "def train_autoencoder(EbN0dB, nb_epochs=10_000):\n",
    "    # Create models\n",
    "    # Encoder\n",
    "    encoder_model=Sequential()\n",
    "    encoder_model.add(Dense(128, activation='relu', input_dim=k))\n",
    "    encoder_model.add(Dense(64, activation='relu'))\n",
    "    encoder_model.add(Dense(32, activation='relu'))\n",
    "    \n",
    "    encoder_model.add(Dense(n, activation='tanh'))\n",
    "\n",
    "    # Decoder\n",
    "    decoder_model=Sequential()\n",
    "    decoder_model.add(Dense(32, activation='relu', input_dim=n))\n",
    "    decoder_model.add(Dense(64, activation='relu'))\n",
    "    decoder_model.add(Dense(128, activation='relu'))\n",
    "    decoder_model.add(Dense(k, activation='tanh'))\n",
    "\n",
    "    # Merge both to autoencoder\n",
    "    noise_std = np.sqrt(0.5*(n/k)*(1 / 1)*(1/10**(EbN0dB/10)))\n",
    "    noisy_model=Sequential()\n",
    "    noisy_model.add(encoder_model)\n",
    "    noisy_model.add(GaussianNoise(noise_std, input_shape=(n,)))\n",
    "    noisy_model.add(decoder_model)\n",
    "\n",
    "    noisy_model.compile(\n",
    "        optimizer='adam',\n",
    "        loss='mean_squared_error',\n",
    "        metrics=['accuracy']\n",
    "    )\n",
    "    \n",
    "    print(noisy_model.summary())\n",
    "    \n",
    "    t = time.time()\n",
    "    noisy_history = noisy_model.fit(\n",
    "        np.array(elements), \n",
    "        np.array(elements), \n",
    "        epochs=nb_epochs, \n",
    "        verbose=0\n",
    "    )\n",
    "    print(f'Elapsed : {np.round(time.time() - t, 2)} s')\n",
    "    \n",
    "    # Save models\n",
    "    encoder_model.save(f'networks/autoencoder/autoencoder_encoder_{EbN0dB}-{nb_epochs}.h5')\n",
    "    decoder_model.save(f'networks/autoencoder/autoencoder_decoder_{EbN0dB}-{nb_epochs}.h5')\n",
    "\n",
    "if __name__ == '__main__':\n",
    "    train_autoencoder(5)\n",
    "    "
   ]
  },
  {
   "cell_type": "code",
   "execution_count": 57,
   "metadata": {},
   "outputs": [
    {
     "name": "stderr",
     "output_type": "stream",
     "text": [
      "C:\\Users\\Thibault\\Anaconda3\\envs\\PythonGPU\\lib\\site-packages\\keras\\engine\\saving.py:341: UserWarning: No training configuration found in save file: the model was *not* compiled. Compile it manually.\n",
      "  warnings.warn('No training configuration found in save file: '\n"
     ]
    },
    {
     "name": "stdout",
     "output_type": "stream",
     "text": [
      "\n",
      "Start simulation with network trained at 5-10000 dB\n",
      "Start EbN0 1/10 [-5.0] /1000 [1694] | Ended in 0.27 s\n",
      "Start EbN0 2/10 [-3.56] /1000 [1411] | Ended in 0.1 s\n",
      "Start EbN0 3/10 [-2.11] /1000 [1103] | Ended in 0.11 s\n",
      "Start EbN0 4/10 [-0.67] /1000 [779][1531] | Ended in 0.17 s\n",
      "Start EbN0 5/10 [0.78] /1000 [489][962][1452] | Ended in 0.29 s\n",
      "Start EbN0 6/10 [2.22] /1000 [283][554][814][1093] | Ended in 0.35 s\n",
      "Start EbN0 7/10 [3.67] /1000 [126][241][358][479][626][756][887][1019] | Ended in 0.78 s\n",
      "Start EbN0 8/10 [5.11] /1000 [37][93][136][189][235][273][318][366][399][445][498][533][587][636][683][728][790][839][884][929][967][1015] | Ended in 2.23 s\n",
      "Start EbN0 9/10 [6.56] /1000 [11][21][36][46][58][69][86][95][107][123][129][143][156][166][173][182][198][208][230][239][259][270][288][301][308][320][335][342][353][361][368][380][392][408][419][433][445][453][461][474][486][493][501][509][518][524][540][560][573][585][598][612][630][637][650][662][674][686][699][712][728][736][744][756][765][778][791][800][815][826][838][852][861][877][884][902][911][924][941][954][970][980][989][1002] | Ended in 8.14 s\n",
      "Start EbN0 10/10 [8.0] /1000 [3][4][6][8][11][12][13][14][15][17][22][25][28][30][33][35][36][37][41][42][44][46][48][53][54][56][57][58][59][61][63][64][66][67][69][70][71][75][77][79][81][84][86][89][90][92][94][95][98][102][105][107][108][109][111][115][118][119][122][124][126][127][129][131][133][136][138][140][142][143][145][148][149][153][156][159][160][163][165][167][169][171][173][175][177][179][182][185][186][191][193][196][198][199][200][201][206][208][211][212][215][216][218][219][221][222][223][225][230][231][233][235][239][240][241][245][249][251][253][254][257][261][262][266][267][270][275][276][280][283][286][288][290][292][293][295][299][302][308][310][311][316][318][321][323][324][325][326][328][329][330][331][334][336][340][342][343][344][346][348][352][354][356][357][358][362][363][367][368][371][373][377][378][379][382][383][384][385][387][390][393][397][398][400][403][405][407][411][412][415][417][418][419][421][422][425][426][427][428][429][433][435][436][439][441][443][446][449][451][452][455][456][457][458][463][465][469][470][472][474][475][477][478][479][482][483][485][486][488][490][491][494][496][497][500][502][504][508][510][511][513][514][515][516][518][520][522][524][526][527][531][535][537][538][539][541][543][545][546][550][551][553][555][556][558][559][564][566][568][570][571][572][574][576][577][584][585][587][590][593][596][597][598][602][605][609][611][612][617][619][620][621][626][627][629][630][633][636][639][641][643][644][647][648][649][652][654][655][656][658][659][662][663][664][666][668][670][673][679][680][683][684][685][688][689][690][691][692][694][699][700][701][704][706][709][713][714][717][722][725][729][732][734][736][739][741][743][744][747][748][750][752][755][758][761][764][766][771][773][777][779][780][782][783][785][786][789][790][792][793][794][795][797][800][802][803][804][805][807][811][815][820][824][827][829][831][832][835][837][838][839][841][844][846][848][849][851][853][855][858][859][860][861][863][864][866][867][870][871][872][873][874][875][877][879][881][882][883][884][888][890][891][892][895][898][900][903][905][908][910][911][912][915][917][918][921][925][927][930][931][933][936][940][942][945][946][949][950][953][954][957][959][960][961][964][965][968][970][975][977][979][980][982][983][985][987][988][990][991][994][995][997][1004] | Ended in 49.27 s\n"
     ]
    },
    {
     "data": {
      "image/png": "[encoded data removed]",
      "text/plain": [
       "<Figure size 432x288 with 1 Axes>"
      ]
     },
     "metadata": {
      "needs_background": "light"
     },
     "output_type": "display_data"
    },
    {
     "name": "stdout",
     "output_type": "stream",
     "text": [
      "Elapsed : 62.38 s\n"
     ]
    }
   ],
   "source": [
    "# -*- coding: utf-8 -*-\n",
    "import os\n",
    "import matplotlib.pyplot as plt\n",
    "import numpy as np\n",
    "import keras \n",
    "import time\n",
    "\n",
    "from keras.models import load_model\n",
    "\n",
    "from src.communications import Transmitter, AWGNChannel, Receiver, ReceiverMode, TransmitterMode\n",
    "from src.utils import ber_performance, get_basic_channel_fct, show_ber, get_fec_matrix, get_all_possible_words\n",
    "\n",
    "# Configuration\n",
    "MODULATION = 'BPSK'\n",
    "FEC_MATRIX = 'POLAR_8_16'\n",
    "EbN0dBs = np.linspace(-5, 8, 10)\n",
    "\n",
    "G = get_fec_matrix(FEC_MATRIX)\n",
    "channel = AWGNChannel(MODULATION, G)\n",
    "\n",
    "k = np.size(G, 0)\n",
    "n = np.size(G, 1)\n",
    "\n",
    "block_elements = list(get_all_possible_words(k))\n",
    "\n",
    "def get_channel_fct(encoder_model, decoder_model):\n",
    "    def channel_fct(b, EbN0dB):\n",
    "            # Encoder\n",
    "            c = encoder_model.predict(np.array(np.split(b, len(b) // k)))\n",
    "            c = c.flatten()\n",
    "\n",
    "            # Channel\n",
    "            d = channel.process(c, EbN0dB)\n",
    "\n",
    "            # Decoder\n",
    "            b_r = decoder_model.predict(np.array(np.split(d, len(d) // n)))\n",
    "            b_r = b_r.flatten()\n",
    "            b_r = np.round(b_r)\n",
    "\n",
    "            return b_r, c, d\n",
    "        \n",
    "    return channel_fct\n",
    "\n",
    "    \n",
    "if __name__ == '__main__':\n",
    "    t = time.time()\n",
    "    \n",
    "    # Get all trained networks\n",
    "    elts = {}\n",
    "    for file in os.listdir(\"networks/autoencoder\"):\n",
    "        if file.endswith(\".h5\"):\n",
    "            [_, elt_type, elt_db] = file.replace('.h5', '').split('_')\n",
    "            if elt_db not in elts.keys():\n",
    "                elts[elt_db] = {}\n",
    "            \n",
    "            elts[elt_db][elt_type] = load_model(f'networks/autoencoder/{file}')\n",
    "    \n",
    "    # Plot results\n",
    "    [EbN0dBs_C, BER_C] = np.loadtxt('outputs/BER_G_MAP.csv', delimiter=',')\n",
    "    \n",
    "    plt.figure()\n",
    "    \n",
    "    # Simulation\n",
    "    legend = []\n",
    "    symbols = ['+', 'x', 'o', '*']\n",
    "    for (i, training_EbN0dB) in enumerate(elts.keys()):\n",
    "        print(f'\\nStart simulation with network trained at {training_EbN0dB} dB')\n",
    "        legend.append(f'Training with {training_EbN0dB} dB')\n",
    "        \n",
    "        BER = ber_performance(\n",
    "            EbN0dBs,\n",
    "            get_channel_fct(\n",
    "                elts[training_EbN0dB]['encoder'], \n",
    "                elts[training_EbN0dB]['decoder']\n",
    "            ),\n",
    "            k * 1000,\n",
    "            1000\n",
    "        )\n",
    "        plt.plot(EbN0dBs, BER, symbols[i % len(symbols)] + '-')\n",
    "        \n",
    "        np.savetxt(\n",
    "            f'outputs/BER_autoencoder.csv', \n",
    "            [np.array(EbN0dBs), np.array(BER)], delimiter=','\n",
    "        )\n",
    "\n",
    "    plt.plot(EbN0dBs_C, BER_C)\n",
    "    plt.legend(legend + ['MAP'])\n",
    "    plt.grid()\n",
    "    \n",
    "    plt.xlabel('$\\\\frac{E_b}{N_0}$ in (dB)')\n",
    "    plt.ylabel('$P_e$')\n",
    "    plt.yscale('log')\n",
    "    plt.xlim(np.min(EbN0dBs), np.max(EbN0dBs))\n",
    "    \n",
    "    plt.show()\n",
    "    \n",
    "    # Save results\n",
    "\n",
    "    \n",
    "    print(f'Elapsed : {np.round(time.time() - t, 2)} s')\n"
   ]
  }
 ],
 "metadata": {
  "colab": {
   "name": "5- Neural based channel decoders.ipynb",
   "provenance": []
  },
  "kernelspec": {
   "display_name": "Python 3",
   "language": "python",
   "name": "python3"
  },
  "language_info": {
   "codemirror_mode": {
    "name": "ipython",
    "version": 3
   },
   "file_extension": ".py",
   "mimetype": "text/x-python",
   "name": "python",
   "nbconvert_exporter": "python",
   "pygments_lexer": "ipython3",
   "version": "3.7.6"
  }
 },
 "nbformat": 4,
 "nbformat_minor": 4
}
