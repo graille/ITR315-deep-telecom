{
 "cells": [
  {
   "cell_type": "markdown",
   "metadata": {
    "colab_type": "text",
    "id": "ug2m-zsT0ij-"
   },
   "source": [
    "# Neural-based channel decoders\n"
   ]
  },
  {
   "cell_type": "code",
   "execution_count": 2,
   "metadata": {
    "colab": {},
    "colab_type": "code",
    "id": "RY4pckrQ0ikB"
   },
   "outputs": [
    {
     "name": "stdout",
     "output_type": "stream",
     "text": [
      "Start EbN0 1/20 [-15.0]\n",
      "Start EbN0 2/20 [-13.89]\n",
      "Start EbN0 3/20 [-12.79]\n",
      "Start EbN0 4/20 [-11.68]\n",
      "Start EbN0 5/20 [-10.58]\n",
      "Start EbN0 6/20 [-9.47]\n",
      "Start EbN0 7/20 [-8.37]\n",
      "Start EbN0 8/20 [-7.26]\n",
      "Start EbN0 9/20 [-6.16]\n",
      "Start EbN0 10/20 [-5.05]\n",
      "Start EbN0 11/20 [-3.95]\n",
      "Start EbN0 12/20 [-2.84]\n",
      "Start EbN0 13/20 [-1.74]\n",
      "Start EbN0 14/20 [-0.63]\n",
      "Start EbN0 15/20 [0.47]\n",
      "Start EbN0 16/20 [1.58]\n",
      "Start EbN0 17/20 [2.68]\n",
      "Start EbN0 18/20 [3.79]\n",
      "Start EbN0 19/20 [4.89]\n",
      "Start EbN0 20/20 [6.0]\n"
     ]
    },
    {
     "data": {
      "image/png": "[encoded data removed]",
      "text/plain": [
       "<Figure size 432x288 with 1 Axes>"
      ]
     },
     "metadata": {
      "needs_background": "light"
     },
     "output_type": "display_data"
    },
    {
     "name": "stdout",
     "output_type": "stream",
     "text": [
      "Elapsed : 19.81 s\n"
     ]
    }
   ],
   "source": [
    "# -*- coding: utf-8 -*-\n",
    "import matplotlib.pyplot as plt\n",
    "import numpy as np\n",
    "import keras \n",
    "import time\n",
    "\n",
    "from keras.models import load_model\n",
    "\n",
    "from src.communications import Transmitter, AWGNChannel, Receiver, ReceiverMode, TransmitterMode\n",
    "from src.utils import ber_performance, get_basic_channel_fct, show_ber, get_fec_matrix\n",
    "\n",
    "# Configuration\n",
    "MODULATION = 'BPSK'\n",
    "FEC_MATRIX = 'POLAR_8_16'\n",
    "EbN0dBs = np.linspace(-15, 6, 20)\n",
    "\n",
    "# Load models\n",
    "encoder_model = load_model('networks/encoder.h5')\n",
    "decoder_model = load_model('networks/decoder.h5')\n",
    "G = get_fec_matrix(FEC_MATRIX)\n",
    "\n",
    "# Load channel components\n",
    "transmitter = Transmitter(MODULATION, G, TransmitterMode.NETWORK, encoder_model)\n",
    "channel = AWGNChannel(MODULATION, G)\n",
    "receiver = Receiver(MODULATION, G, ReceiverMode.NETWORK, decoder_model)\n",
    "\n",
    "if __name__ == '__main__':\n",
    "    t = time.time()\n",
    "    BER = ber_performance(\n",
    "        EbN0dBs,\n",
    "        get_basic_channel_fct(transmitter, channel, receiver),\n",
    "        np.size(G, 0) * 5000,\n",
    "        200\n",
    "    )\n",
    "    \n",
    "    # Plot results\n",
    "    [EbN0dBs_C, BER_C] = np.loadtxt('BER_G_MAP.csv', delimiter=',')\n",
    "    \n",
    "    plt.figure()\n",
    "    show_ber(MODULATION, EbN0dBs, BER)\n",
    "    plt.plot(EbN0dBs_C, BER_C)\n",
    "    plt.legend(['BPSK', 'Neural network', 'Theory'])\n",
    "    plt.show()\n",
    "    \n",
    "    # Save results\n",
    "    np.savetxt(\n",
    "        f'outputs/BER_complete_[{MODULATION}]_[{FEC_MATRIX}].csv', \n",
    "        [np.array(EbN0dBs), np.array(BER)], delimiter=','\n",
    "    )\n",
    "    \n",
    "    print(f'Elapsed : {np.round(time.time() - t, 2)} s')\n"
   ]
  },
  {
   "cell_type": "code",
   "execution_count": 1,
   "metadata": {},
   "outputs": [
    {
     "name": "stderr",
     "output_type": "stream",
     "text": [
      "Using TensorFlow backend.\n"
     ]
    },
    {
     "name": "stdout",
     "output_type": "stream",
     "text": [
      "[1, 0, 1, 1, 0, 1, 0, 1]\n",
      "[ 1.  1.  1.  1.  1.  1. -1. -1.  1.  1.  1.  1. -1. -1.  1.  1.]\n",
      "[ 0.8503614   1.18173338  1.76919728  2.35710815 -0.40012686  0.2125305\n",
      "  0.23157249 -0.73977177  1.02612086  1.64205544  1.39142397  1.52914313\n",
      " -1.84362459 -0.82514701  0.94150621 -2.4088039 ]\n",
      "[0 0 0 0 1 0 0 0]\n"
     ]
    }
   ],
   "source": [
    "# -*- coding: utf-8 -*-\n",
    "import matplotlib.pyplot as plt\n",
    "import numpy as np\n",
    "import keras \n",
    "import time\n",
    "\n",
    "from keras.models import load_model\n",
    "\n",
    "from src.communications import Transmitter, AWGNChannel, Receiver, ReceiverMode, TransmitterMode\n",
    "from src.utils import ber_performance, get_basic_channel_fct, show_ber, get_fec_matrix\n",
    "\n",
    "# Configuration\n",
    "MODULATION = 'BPSK'\n",
    "FEC_MATRIX = 'POLAR_8_16'\n",
    "EbN0dBs = np.linspace(-15, 6, 20)\n",
    "\n",
    "# Load models\n",
    "encoder_model = load_model('networks/encoder.h5')\n",
    "decoder_model = load_model('networks/decoder.h5')\n",
    "G = get_fec_matrix(FEC_MATRIX)\n",
    "\n",
    "# Load channel components\n",
    "transmitter = Transmitter(MODULATION, G, TransmitterMode.NETWORK, encoder_model)\n",
    "channel = AWGNChannel(MODULATION, G)\n",
    "receiver = Receiver(MODULATION, G, ReceiverMode.NETWORK, decoder_model)\n",
    "\n",
    "\n",
    "b = [1, 0, 1, 1, 0, 1, 0, 1]\n",
    "c = transmitter.transmit(b)\n",
    "d = channel.process(c, -2)\n",
    "\n",
    "b_d = receiver.receive(d)\n",
    "\n",
    "print(b)\n",
    "print(c)\n",
    "print(d)\n",
    "print(b_d)"
   ]
  }
 ],
 "metadata": {
  "colab": {
   "name": "5- Neural based channel decoders.ipynb",
   "provenance": []
  },
  "kernelspec": {
   "display_name": "Python 3",
   "language": "python",
   "name": "python3"
  },
  "language_info": {
   "codemirror_mode": {
    "name": "ipython",
    "version": 3
   },
   "file_extension": ".py",
   "mimetype": "text/x-python",
   "name": "python",
   "nbconvert_exporter": "python",
   "pygments_lexer": "ipython3",
   "version": "3.7.6"
  }
 },
 "nbformat": 4,
 "nbformat_minor": 4
}
