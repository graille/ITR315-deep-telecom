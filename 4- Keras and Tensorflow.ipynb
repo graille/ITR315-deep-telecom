{
 "cells": [
  {
   "cell_type": "markdown",
   "metadata": {},
   "source": [
    "# Getting started on Keras"
   ]
  },
  {
   "cell_type": "markdown",
   "metadata": {},
   "source": [
    "## 1. Install "
   ]
  },
  {
   "cell_type": "markdown",
   "metadata": {},
   "source": [
    "Keras is a python module developped for machine learning based applications, and more specifically, for neural based solutions. Keras is built upon a python backend which needs to be installed and loaded before Keras. Three backends are available: Theano, TensorFlow and CNTK. We will work mostly with Tensorflow. \n",
    "\n",
    "All installation packages are available on the website https://keras.io/#installation. Follow instructions very carefully, and whenever possible, choose distributions which are the most stable. It is generally easier to install these packages using Anaconda (or its lightweight version miniconda) and for python 2.7. "
   ]
  },
  {
   "cell_type": "markdown",
   "metadata": {},
   "source": [
    "## 2. Models and layers\n",
    "\n",
    "In Keras, a neural network  is a model, and is comprised of layers. Keras offers many models ( Feedforward, CNN, RNN, RBM, SVM, ...), though the most useful one for our project is the feedforward neural net (denoted as sequential in Keras https://keras.io/models/sequential/ ). A model offers many methods among which \"fit\", \"compile\", \"history\", \"save_weights\", \"load_weights\". Before getting started, read this documentation https://keras.io/getting-started/sequential-model-guide/. \n"
   ]
  },
  {
   "cell_type": "markdown",
   "metadata": {},
   "source": [
    "## 3. Datasets "
   ]
  },
  {
   "cell_type": "markdown",
   "metadata": {},
   "source": [
    "Many datasets are available for supervised learning purposes, https://keras.io/datasets/ , for your personal scientific curiosity, have a look at these classical datasets which serve often as a benchmark for constests. In this course, you will be building your own dataset, and a few rules need to be taken into consideration: the training and validation dataset sizes ratio, the randomness of data (overfitting), the batch training method (batch, online, mini-batch, ...) , the number of epochs for training (convergence speed), ... refer to D. Kriesel's book for these design criteria (http://www.dkriesel.com/en/science/neural_networks). "
   ]
  },
  {
   "cell_type": "markdown",
   "metadata": {},
   "source": [
    "## 4. Build and train a neural net "
   ]
  },
  {
   "cell_type": "markdown",
   "metadata": {},
   "source": [
    "Question: Build and train a neural network to perform the OR, AND, and XOR operations. "
   ]
  },
  {
   "cell_type": "code",
   "execution_count": 1,
   "metadata": {},
   "outputs": [],
   "source": [
    "# Type your code here \n",
    "\n"
   ]
  }
 ],
 "metadata": {
  "kernelspec": {
   "display_name": "Python 3",
   "language": "python",
   "name": "python3"
  },
  "language_info": {
   "codemirror_mode": {
    "name": "ipython",
    "version": 3
   },
   "file_extension": ".py",
   "mimetype": "text/x-python",
   "name": "python",
   "nbconvert_exporter": "python",
   "pygments_lexer": "ipython3",
   "version": "3.7.3"
  }
 },
 "nbformat": 4,
 "nbformat_minor": 2
}
