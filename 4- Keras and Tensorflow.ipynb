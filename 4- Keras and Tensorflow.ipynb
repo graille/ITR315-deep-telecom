{
  "nbformat": 4,
  "nbformat_minor": 0,
  "metadata": {
    "kernelspec": {
      "display_name": "Python 3",
      "language": "python",
      "name": "python3"
    },
    "language_info": {
      "codemirror_mode": {
        "name": "ipython",
        "version": 3
      },
      "file_extension": ".py",
      "mimetype": "text/x-python",
      "name": "python",
      "nbconvert_exporter": "python",
      "pygments_lexer": "ipython3",
      "version": "3.7.3"
    },
    "colab": {
      "name": "4- Keras and Tensorflow.ipynb",
      "provenance": [],
      "collapsed_sections": []
    }
  },
  "cells": [
    {
      "cell_type": "markdown",
      "metadata": {
        "id": "ux_4Q7bo-h9u",
        "colab_type": "text"
      },
      "source": [
        "# Getting started on Keras"
      ]
    },
    {
      "cell_type": "markdown",
      "metadata": {
        "id": "x2SDAl9P-h96",
        "colab_type": "text"
      },
      "source": [
        "## 1. Install "
      ]
    },
    {
      "cell_type": "markdown",
      "metadata": {
        "id": "YkHE-BzF-h-G",
        "colab_type": "text"
      },
      "source": [
        "Keras is a python module developped for machine learning based applications, and more specifically, for neural based solutions. Keras is built upon a python backend which needs to be installed and loaded before Keras. Three backends are available: Theano, TensorFlow and CNTK. We will work mostly with Tensorflow. \n",
        "\n",
        "All installation packages are available on the website https://keras.io/#installation. Follow instructions very carefully, and whenever possible, choose distributions which are the most stable. It is generally easier to install these packages using Anaconda (or its lightweight version miniconda) and for python 2.7. "
      ]
    },
    {
      "cell_type": "markdown",
      "metadata": {
        "id": "7iEzfTdj-h-N",
        "colab_type": "text"
      },
      "source": [
        "## 2. Models and layers\n",
        "\n",
        "In Keras, a neural network  is a model, and is comprised of layers. Keras offers many models ( Feedforward, CNN, RNN, RBM, SVM, ...), though the most useful one for our project is the feedforward neural net (denoted as sequential in Keras https://keras.io/models/sequential/ ). A model offers many methods among which \"fit\", \"compile\", \"history\", \"save_weights\", \"load_weights\". Before getting started, read this documentation https://keras.io/getting-started/sequential-model-guide/. \n"
      ]
    },
    {
      "cell_type": "markdown",
      "metadata": {
        "id": "w_FtCdm--h-V",
        "colab_type": "text"
      },
      "source": [
        "## 3. Datasets "
      ]
    },
    {
      "cell_type": "markdown",
      "metadata": {
        "id": "CdK1W2tJ-h-g",
        "colab_type": "text"
      },
      "source": [
        "Many datasets are available for supervised learning purposes, https://keras.io/datasets/ , for your personal scientific curiosity, have a look at these classical datasets which serve often as a benchmark for constests. In this course, you will be building your own dataset, and a few rules need to be taken into consideration: the training and validation dataset sizes ratio, the randomness of data (overfitting), the batch training method (batch, online, mini-batch, ...) , the number of epochs for training (convergence speed), ... refer to D. Kriesel's book for these design criteria (http://www.dkriesel.com/en/science/neural_networks). "
      ]
    },
    {
      "cell_type": "markdown",
      "metadata": {
        "id": "iivfpI2D-h-o",
        "colab_type": "text"
      },
      "source": [
        "## 4. Build and train a neural net "
      ]
    },
    {
      "cell_type": "markdown",
      "metadata": {
        "id": "iJ7uZBfW-h-z",
        "colab_type": "text"
      },
      "source": [
        "Question: Build and train a neural network to perform the OR, AND, and XOR operations. "
      ]
    },
    {
      "cell_type": "code",
      "metadata": {
        "id": "ryssbYWm-h-4",
        "colab_type": "code",
        "colab": {
          "base_uri": "https://localhost:8080/",
          "height": 955
        },
        "outputId": "84c22541-cfbb-4dd5-d0d7-c4c4a5f30199"
      },
      "source": [
        "# Type your code here \n",
        "\n",
        "import keras\n",
        "import matplotlib.pyplot as plt\n",
        "\n",
        "from keras.models import Sequential\n",
        "from keras.utils import plot_model\n",
        "from keras.layers import Dense, Dropout, Activation\n",
        "from keras.optimizers import SGD\n",
        "import numpy as np\n",
        "\n",
        "N = 2\n",
        "\n",
        "# AND Model\n",
        "and_model=Sequential()\n",
        "# Input Layer\n",
        "and_model.add(Dense(1, activation='sigmoid', input_dim=N))\n",
        "model.compile(optimizer='adam',\n",
        "              loss='binary_crossentropy',\n",
        "              metrics=['accuracy'])\n",
        "print(and_model.summary())\n",
        "\n",
        "# OR Model\n",
        "or_model=Sequential()\n",
        "or_model.add(Dense(1, activation='sigmoid', input_dim=N))\n",
        "model.compile(optimizer='adam',\n",
        "              loss='binary_crossentropy',\n",
        "              metrics=['accuracy'])\n",
        "print(or_model.summary())\n",
        "\n",
        "# XOR Model\n",
        "xor_model=Sequential()\n",
        "xor_model.add(Dense(N, activation='sigmoid', input_dim=N))\n",
        "xor_model.add(Dense(1, activation='sigmoid', input_dim=N))\n",
        "model.compile(optimizer='adam',\n",
        "              loss='binary_crossentropy',\n",
        "              metrics=['accuracy'])\n",
        "print(xor_model.summary())\n",
        "plot_model(xor_model,show_shapes=True)\n",
        "\n",
        "\n",
        "\n",
        "# Training\n",
        "\n",
        "#AND\n",
        "#inputs = [0,0], output = 0\n",
        "#inputs = [0,1], output = 0\n",
        "#inputs = [1,0], output = 0\n",
        "#inputs = [1,1], output = 1\n",
        "\n",
        "#OR \n",
        "#inputs = [0,0], output = 0\n",
        "#inputs = [0,1], output = 1\n",
        "#inputs = [1,0], output = 1\n",
        "#inputs = [1,1], output = 1\n",
        "\n",
        "#XOR \n",
        "#inputs = [0,0], output = 0\n",
        "#inputs = [0,1], output = 1\n",
        "#inputs = [1,0], output = 1\n",
        "#inputs = [1,1], output = 0\n",
        "\n"
      ],
      "execution_count": 25,
      "outputs": [
        {
          "output_type": "stream",
          "text": [
            "Model: \"sequential_46\"\n",
            "_________________________________________________________________\n",
            "Layer (type)                 Output Shape              Param #   \n",
            "=================================================================\n",
            "dense_67 (Dense)             (None, 1)                 3         \n",
            "=================================================================\n",
            "Total params: 3\n",
            "Trainable params: 3\n",
            "Non-trainable params: 0\n",
            "_________________________________________________________________\n",
            "None\n",
            "Model: \"sequential_47\"\n",
            "_________________________________________________________________\n",
            "Layer (type)                 Output Shape              Param #   \n",
            "=================================================================\n",
            "dense_68 (Dense)             (None, 1)                 3         \n",
            "=================================================================\n",
            "Total params: 3\n",
            "Trainable params: 3\n",
            "Non-trainable params: 0\n",
            "_________________________________________________________________\n",
            "None\n",
            "Model: \"sequential_48\"\n",
            "_________________________________________________________________\n",
            "Layer (type)                 Output Shape              Param #   \n",
            "=================================================================\n",
            "dense_69 (Dense)             (None, 2)                 6         \n",
            "_________________________________________________________________\n",
            "dense_70 (Dense)             (None, 1)                 3         \n",
            "=================================================================\n",
            "Total params: 9\n",
            "Trainable params: 9\n",
            "Non-trainable params: 0\n",
            "_________________________________________________________________\n",
            "None\n"
          ],
          "name": "stdout"
        },
        {
          "output_type": "execute_result",
          "data": {
            "image/png": "[encoded data removed]",
            "text/plain": [
              "<IPython.core.display.Image object>"
            ]
          },
          "metadata": {
            "tags": []
          },
          "execution_count": 25
        }
      ]
    }
  ]
}