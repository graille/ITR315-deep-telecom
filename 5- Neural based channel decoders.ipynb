{
 "cells": [
  {
   "cell_type": "markdown",
   "metadata": {
    "colab_type": "text",
    "id": "view-in-github"
   },
   "source": [
    "<a href=\"https://colab.research.google.com/github/graille/ITR315-deep-telecom/blob/master/5-%20Neural%20based%20channel%20decoders.ipynb\" target=\"_parent\"><img src=\"https://colab.research.google.com/assets/colab-badge.svg\" alt=\"Open In Colab\"/></a>"
   ]
  },
  {
   "cell_type": "markdown",
   "metadata": {
    "colab_type": "text",
    "id": "ug2m-zsT0ij-"
   },
   "source": [
    "# Neural-based channel decoders\n"
   ]
  },
  {
   "cell_type": "markdown",
   "metadata": {
    "colab_type": "text",
    "id": "iViUNcHQ0ikA"
   },
   "source": [
    "## 1. Prerequisites:  \n",
    "\n",
    "The purpose of this part of the work is to compare the BER of both a pre-trained neural decoder and the MAP decoder for a Polar code over an AWGN channel. \n",
    "\n",
    "In order to develop a neural based channel decoder you will need: \n",
    "\n",
    "- A communication chain which implements the polar code and its MAP decoder (under python)\n",
    "- A working keras environment with the proper backend Tensorflow \n",
    "\n",
    "\n",
    "## 2. Training dataset and training:  \n",
    "\n",
    "In order to train the neural network, you need to provide it with both: \n",
    "- Input sequences: the received $y^n$\n",
    "- Label sequences (or targets) : the transmitted $u^k$\n",
    "\n",
    "In order for the neural decoder to be able to recover the original information words, i.e., $u^k$, the neural decoder needs to be trained over all possible $u^k$ and therefore, all posssible codewords $c^n$. Thus, the label sequences need to cover all possibly transmitted sequences. \n",
    "\n",
    "The labels can be coded in two different manners: \n",
    "- Array representation: the output of the neural network is a vector of size k, which outputs for each bit $i \\in [1:k]$, a possible value 0 or 1. . \n",
    "- One hot representation: the output of the neural networ is a vector of size $2^k$ which outputs $1$ only at the index of the information word transmitted, and 0 everywhere else. \n",
    "\n",
    "Question: In practice, the output of a neural network is never binary, but it rather has a soft value $ \\in [0:1]$. Depending on the type of the network, two possible output activation functions can be used in order to output these soft values: sigmoid or softmax. Which function should we use for either strategies? \n",
    "\n",
    "In this project, we will use one-hot representations. \n",
    "\n",
    "## 3. Testing: \n",
    "Once the neural network is trained, you can test it in the communication chain you implemented before. \n",
    "\n",
    "## 4. Design meta-parameters: \n",
    "\n",
    "The performances of the neural decoder will be strongly related to the metaparameters chosen during training. \n",
    "\n",
    "Try and assess the effect of the different design metaparameters: \n",
    "\n",
    "- Training epochs\n",
    "- Number of hidden layers\n",
    "- Number of neurons per layer\n",
    "- Activation functions\n",
    "- Training SNR \n",
    "- Optimizer \n",
    "- Loss function: mse, crossentropy \n"
   ]
  },
  {
   "cell_type": "code",
   "execution_count": 6,
   "metadata": {
    "colab": {
     "base_uri": "https://localhost:8080/",
     "height": 1000
    },
    "colab_type": "code",
    "id": "RY4pckrQ0ikB",
    "outputId": "d4fbbd06-dd66-4f01-97c7-7ed663e00141"
   },
   "outputs": [
    {
     "name": "stdout",
     "output_type": "stream",
     "text": [
      "Noise std : 0.8912509381337456\n",
      "Model: \"sequential_2\"\n",
      "_________________________________________________________________\n",
      "Layer (type)                 Output Shape              Param #   \n",
      "=================================================================\n",
      "gaussian_noise_1 (GaussianNo (None, 16)                0         \n",
      "_________________________________________________________________\n",
      "sequential_1 (Sequential)    (None, 256)               1398016   \n",
      "=================================================================\n",
      "Total params: 1,398,016\n",
      "Trainable params: 1,398,016\n",
      "Non-trainable params: 0\n",
      "_________________________________________________________________\n",
      "None\n",
      "\n",
      "Start training\n",
      "Elapsed : 447.98 s\n"
     ]
    }
   ],
   "source": [
    "# -*- coding: utf-8 -*-\n",
    "import matplotlib.pyplot as plt\n",
    "import numpy as np\n",
    "import keras \n",
    "import time\n",
    "\n",
    "from keras.models import Sequential\n",
    "from keras.utils import plot_model\n",
    "from keras.layers import Dense, Dropout, Activation, GaussianNoise\n",
    "from keras.optimizers import SGD\n",
    "\n",
    "from src.communications import *\n",
    "from src.utils import *\n",
    "\n",
    "# Configuration\n",
    "MODULATION = 'BPSK'\n",
    "G = get_fec_matrix('POLAR_8_16')\n",
    "\n",
    "# Initialization\n",
    "transmitter = Transmitter(MODULATION, G)\n",
    "receiver = Receiver(MODULATION, G)\n",
    "\n",
    "k = transmitter.block_length\n",
    "n = transmitter.block_coded_length\n",
    "\n",
    "channel = AWGNChannel(get_bps(MODULATION), k, n)\n",
    "\n",
    "if __name__ == '__main__':\n",
    "    t = time.time()\n",
    "    # receiver.block_elements contains all possible u^k (labels)\n",
    "    # receiver.block_coded_elements contains all possible codewords c^n\n",
    "    \n",
    "    EbN0dB = 1 # in dB, SNR for the std to train with the Gaussian layer\n",
    "    noise_power = calculate_noise_power(EbN0dB, 1, k, n, get_bps(MODULATION))\n",
    "    noise_std = np.sqrt(1./2. * noise_power)\n",
    "    print(f\"Noise std : {noise_std}\")\n",
    "    \n",
    "    # Create model\n",
    "    # We are working with probability, to have sum(s_i) = 1 at the output, we use a softmax instead of a sigmoid activation function\n",
    "    # Because we are using a one hot representation, we also use a categorical_crossentropy loss function\n",
    "    hot_model=Sequential()\n",
    "    hot_model.add(Dense(20*2**k, activation='relu', input_dim=n))\n",
    "    hot_model.add(Dense(2**k, activation='softmax'))\n",
    "    \n",
    "    noisy_model=Sequential()\n",
    "    noisy_model.add(GaussianNoise(noise_std, input_shape=(n,)))\n",
    "    noisy_model.add(hot_model)\n",
    "    \n",
    "    noisy_model.compile(\n",
    "        optimizer='adam',\n",
    "        loss='categorical_crossentropy',\n",
    "        metrics=['accuracy']\n",
    "    )\n",
    "    print(noisy_model.summary())\n",
    "    \n",
    "    # Create labels for hot representation\n",
    "    labels = []\n",
    "    for i in range(2**k):\n",
    "        labels.append(np.zeros(2**k))\n",
    "        labels[-1][i] = 1\n",
    "    \n",
    "    print(\"\")\n",
    "    print(\"Start training\")\n",
    "    noisy_history = noisy_model.fit(\n",
    "        np.array(receiver.block_coded_elements), \n",
    "        np.array(labels), \n",
    "        epochs=10**4, \n",
    "        verbose=0\n",
    "    )\n",
    "    \n",
    "    print(f'Elapsed : {np.round(time.time() - t, 2)} s')\n"
   ]
  },
  {
   "cell_type": "code",
   "execution_count": 7,
   "metadata": {
    "colab": {},
    "colab_type": "code",
    "id": "BoMB58FZtV6w"
   },
   "outputs": [],
   "source": [
    "hot_model.save('networks/decoders/decoder_one_hot_basic.h5')"
   ]
  },
  {
   "cell_type": "code",
   "execution_count": 8,
   "metadata": {
    "colab": {
     "base_uri": "https://localhost:8080/",
     "height": 513
    },
    "colab_type": "code",
    "id": "ZqNu8UDd-kpN",
    "outputId": "dcbbde12-c131-490e-b7eb-d041bfde753d"
   },
   "outputs": [
    {
     "ename": "KeyError",
     "evalue": "'acc'",
     "output_type": "error",
     "traceback": [
      "\u001b[1;31m---------------------------------------------------------------------------\u001b[0m",
      "\u001b[1;31mKeyError\u001b[0m                                  Traceback (most recent call last)",
      "\u001b[1;32m<ipython-input-8-38f0455251e4>\u001b[0m in \u001b[0;36m<module>\u001b[1;34m\u001b[0m\n\u001b[0;32m      3\u001b[0m \u001b[0max\u001b[0m \u001b[1;33m=\u001b[0m \u001b[0mfig\u001b[0m\u001b[1;33m.\u001b[0m\u001b[0madd_subplot\u001b[0m\u001b[1;33m(\u001b[0m\u001b[1;36m121\u001b[0m\u001b[1;33m)\u001b[0m\u001b[1;33m\u001b[0m\u001b[1;33m\u001b[0m\u001b[0m\n\u001b[0;32m      4\u001b[0m \u001b[0mplt\u001b[0m\u001b[1;33m.\u001b[0m\u001b[0mgrid\u001b[0m\u001b[1;33m(\u001b[0m\u001b[1;33m)\u001b[0m\u001b[1;33m\u001b[0m\u001b[1;33m\u001b[0m\u001b[0m\n\u001b[1;32m----> 5\u001b[1;33m \u001b[0mplt\u001b[0m\u001b[1;33m.\u001b[0m\u001b[0mplot\u001b[0m\u001b[1;33m(\u001b[0m\u001b[0mnoisy_history\u001b[0m\u001b[1;33m.\u001b[0m\u001b[0mhistory\u001b[0m\u001b[1;33m[\u001b[0m\u001b[1;34m'acc'\u001b[0m\u001b[1;33m]\u001b[0m\u001b[1;33m)\u001b[0m\u001b[1;33m\u001b[0m\u001b[1;33m\u001b[0m\u001b[0m\n\u001b[0m\u001b[0;32m      6\u001b[0m \u001b[0mplt\u001b[0m\u001b[1;33m.\u001b[0m\u001b[0mtitle\u001b[0m\u001b[1;33m(\u001b[0m\u001b[1;34m'Model accuracy'\u001b[0m\u001b[1;33m)\u001b[0m\u001b[1;33m\u001b[0m\u001b[1;33m\u001b[0m\u001b[0m\n\u001b[0;32m      7\u001b[0m \u001b[0mplt\u001b[0m\u001b[1;33m.\u001b[0m\u001b[0mylabel\u001b[0m\u001b[1;33m(\u001b[0m\u001b[1;34m'Accuracy'\u001b[0m\u001b[1;33m)\u001b[0m\u001b[1;33m\u001b[0m\u001b[1;33m\u001b[0m\u001b[0m\n",
      "\u001b[1;31mKeyError\u001b[0m: 'acc'"
     ]
    },
    {
     "data": {
      "image/png": "[encoded data removed]",
      "text/plain": [
       "<Figure size 1440x576 with 1 Axes>"
      ]
     },
     "metadata": {
      "needs_background": "light"
     },
     "output_type": "display_data"
    }
   ],
   "source": [
    "# Plot training & validation accuracy values\n",
    "fig = plt.figure(figsize=(20, 8))\n",
    "ax = fig.add_subplot(121)\n",
    "plt.grid()\n",
    "plt.plot(noisy_history.history['acc']) # \"acc\" must be replaced by \"accuracy\" for higher version of Python\n",
    "plt.title('Model accuracy')\n",
    "plt.ylabel('Accuracy')\n",
    "plt.xlabel('Epoch')\n",
    "plt.yscale('log')\n",
    "plt.legend(['Train'], loc='upper left')\n",
    "\n",
    "# Plot training & validation loss values\n",
    "ax = fig.add_subplot(122)\n",
    "plt.grid()\n",
    "plt.plot(noisy_history.history['loss'])\n",
    "plt.title('Model loss')\n",
    "plt.ylabel('Loss')\n",
    "plt.xlabel('Epoch')\n",
    "plt.legend(['Train'], loc='upper left')\n",
    "plt.yscale('log')\n",
    "# plt.subplots_adjust(wspace = 0.5)"
   ]
  },
  {
   "cell_type": "code",
   "execution_count": 9,
   "metadata": {
    "colab": {
     "base_uri": "https://localhost:8080/",
     "height": 655
    },
    "colab_type": "code",
    "id": "YwYu94K1FlTS",
    "outputId": "608a6a78-b304-4a62-bea4-d7c391451f34"
   },
   "outputs": [
    {
     "name": "stderr",
     "output_type": "stream",
     "text": [
      "C:\\Users\\Thibault\\Anaconda3\\envs\\PythonGPU\\lib\\site-packages\\keras\\engine\\saving.py:341: UserWarning: No training configuration found in save file: the model was *not* compiled. Compile it manually.\n",
      "  warnings.warn('No training configuration found in save file: '\n"
     ]
    },
    {
     "name": "stdout",
     "output_type": "stream",
     "text": [
      "Start EbN0 1/20 [-15.0] /80 [24186.25 %] | Ended in 0.34 s\n",
      "Start EbN0 2/20 [-13.79] /80 [23832.5 %] | Ended in 0.37 s\n",
      "Start EbN0 3/20 [-12.58] /80 [23725.0 %] | Ended in 0.32 s\n",
      "Start EbN0 4/20 [-11.37] /80 [23545.0 %] | Ended in 0.31 s\n",
      "Start EbN0 5/20 [-10.16] /80 [23136.25 %] | Ended in 0.31 s\n",
      "Start EbN0 6/20 [-8.95] /80 [22185.0 %] | Ended in 0.34 s\n",
      "Start EbN0 7/20 [-7.74] /80 [21447.5 %] | Ended in 0.31 s\n",
      "Start EbN0 8/20 [-6.53] /80 [20346.25 %] | Ended in 0.31 s\n",
      "Start EbN0 9/20 [-5.32] /80 [19106.25 %] | Ended in 0.29 s\n",
      "Start EbN0 10/20 [-4.11] /80 [16672.5 %] | Ended in 0.32 s\n",
      "Start EbN0 11/20 [-2.89] /80 [14073.75 %] | Ended in 0.28 s\n",
      "Start EbN0 12/20 [-1.68] /80 [11448.75 %] | Ended in 0.33 s\n",
      "Start EbN0 13/20 [-0.47] /80 [7960.0 %] | Ended in 0.31 s\n",
      "Start EbN0 14/20 [0.74] /80 [4835.0 %] | Ended in 0.31 s\n",
      "Start EbN0 15/20 [1.95] /80 [2661.25 %] | Ended in 0.31 s\n",
      "Start EbN0 16/20 [3.16] /80 [976.25 %] | Ended in 0.37 s\n",
      "Start EbN0 17/20 [4.37] /80 [231.25 %] | Ended in 0.32 s\n",
      "Start EbN0 18/20 [5.58] /80 [35.0 %][78.75 %][150.0 %] | Ended in 0.95 s\n",
      "Start EbN0 19/20 [6.79] /80 [26.25 %][26.25 %][40.0 %][45.0 %][53.75 %][61.25 %][76.25 %][81.25 %][112.5 %] | Ended in 3.45 s\n",
      "Start EbN0 20/20 [8.0] /80 [12.5 %][22.5 %][31.25 %][43.75 %][51.25 %][63.75 %][75.0 %][82.5 %][91.25 %][103.75 %] | Ended in 74.16 s\n"
     ]
    },
    {
     "data": {
      "image/png": "[encoded data removed]",
      "text/plain": [
       "<Figure size 432x288 with 1 Axes>"
      ]
     },
     "metadata": {
      "needs_background": "light"
     },
     "output_type": "display_data"
    },
    {
     "name": "stdout",
     "output_type": "stream",
     "text": [
      "Elapsed : 84.49 s\n"
     ]
    }
   ],
   "source": [
    "import os\n",
    "import matplotlib.pyplot as plt\n",
    "import numpy as np\n",
    "import keras \n",
    "import time\n",
    "\n",
    "from keras.models import load_model\n",
    "\n",
    "from src.communications import *\n",
    "from src.utils import *\n",
    "\n",
    "# Configuration\n",
    "EbN0dBs = np.linspace(-15, 8, 20)\n",
    "decoder_model = load_model(f'networks/decoders/decoder_one_hot_basic.h5')\n",
    "\n",
    "MODULATION = 'BPSK'\n",
    "G = get_fec_matrix('POLAR_8_16')\n",
    "\n",
    "# Initialization\n",
    "transmitter = Transmitter(MODULATION, G)\n",
    "receiver = NetworkReceiver(transmitter.block_length, transmitter.block_coded_length, decoder_model, NeuralNetworkType.ONE_HOT)\n",
    "channel = AWGNChannel(get_bps(MODULATION), transmitter.block_length, transmitter.block_coded_length)\n",
    "\n",
    "if __name__ == '__main__':\n",
    "    t = time.time()\n",
    "    BER = ber_performance(\n",
    "        EbN0dBs,\n",
    "        get_basic_channel_fct(transmitter, channel, receiver),\n",
    "        transmitter.block_length * 5000,\n",
    "        80\n",
    "    )\n",
    "    \n",
    "    [EbN0dBs_C, BER_C] = np.loadtxt('outputs/BER_G_MAP.csv', delimiter=',')\n",
    "    \n",
    "    # Plot results\n",
    "    plt.figure()\n",
    "    show_ber(MODULATION, EbN0dBs, BER)\n",
    "    plt.plot(EbN0dBs_C, BER_C)\n",
    "    plt.legend(['BPSK', 'Neural network', 'Map algorithm'])\n",
    "    plt.show()\n",
    "    \n",
    "    np.savetxt('outputs/BER_G_NEURAL.csv', [np.array(EbN0dBs), np.array(BER)], delimiter=',')\n",
    "    print(f'Elapsed : {np.round(time.time() - t, 2)} s')"
   ]
  }
 ],
 "metadata": {
  "colab": {
   "collapsed_sections": [],
   "include_colab_link": true,
   "name": "5- Neural based channel decoders.ipynb",
   "provenance": []
  },
  "kernelspec": {
   "display_name": "Python 3",
   "language": "python",
   "name": "python3"
  },
  "language_info": {
   "codemirror_mode": {
    "name": "ipython",
    "version": 3
   },
   "file_extension": ".py",
   "mimetype": "text/x-python",
   "name": "python",
   "nbconvert_exporter": "python",
   "pygments_lexer": "ipython3",
   "version": "3.7.6"
  }
 },
 "nbformat": 4,
 "nbformat_minor": 4
}
