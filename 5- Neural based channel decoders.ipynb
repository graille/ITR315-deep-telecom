{
 "cells": [
  {
   "cell_type": "markdown",
   "metadata": {},
   "source": [
    "# Neural-based channel decoders\n"
   ]
  },
  {
   "cell_type": "markdown",
   "metadata": {},
   "source": [
    "## 1. Prerequisites:  \n",
    "\n",
    "The purpose of this part of the work is to compare the BER of both a pre-trained neural decoder and the MAP decoder for a Polar code over an AWGN channel. \n",
    "\n",
    "In order to develop a neural based channel decoder you will need: \n",
    "\n",
    "- A communication chain which implements the polar code and its MAP decoder (under python)\n",
    "- A working keras environment with the proper backend Tensorflow \n",
    "\n",
    "\n",
    "## 2. Training dataset and training:  \n",
    "\n",
    "In order to train the neural network, you need to provide it with both: \n",
    "- Input sequences: the received $y^n$\n",
    "- Label sequences (or targets) : the transmitted $u^k$\n",
    "\n",
    "In order for the neural decoder to be able to recover the original information words, i.e., $u^k$, the neural decoder needs to be trained over all possible $u^k$ and therefore, all posssible codewords $c^n$. Thus, the label sequences need to cover all possibly transmitted sequences. \n",
    "\n",
    "The labels can be coded in two different manners: \n",
    "- Array representation: the output of the neural network is a vector of size k, which outputs for each bit $i \\in [1:k]$, a possible value 0 or 1. . \n",
    "- One hot representation: the output of the neural networ is a vector of size $2^k$ which outputs $1$ only at the index of the information word transmitted, and 0 everywhere else. \n",
    "\n",
    "Question: In practice, the output of a neural network is never binary, but it rather has a soft value $ \\in [0:1]$. Depending on the type of the network, two possible output activation functions can be used in order to output these soft values: sigmoid or softmax. Which function should we use for either strategies? \n",
    "\n",
    "In this project, we will use one-hot representations. \n",
    "\n",
    "## 3. Testing: \n",
    "Once the neural network is trained, you can test it in the communication chain you implemented before. \n",
    "\n",
    "## 4. Design meta-parameters: \n",
    "\n",
    "The performances of the neural decoder will be strongly related to the metaparameters chosen during training. \n",
    "\n",
    "Try and assess the effect of the different design metaparameters: \n",
    "\n",
    "- Training epochs\n",
    "- Number of hidden layers\n",
    "- Number of neurons per layer\n",
    "- Activation functions\n",
    "- Training SNR \n",
    "- Optimizer \n",
    "- Loss function: mse, crossentropy \n"
   ]
  },
  {
   "cell_type": "code",
   "execution_count": null,
   "metadata": {},
   "outputs": [],
   "source": []
  }
 ],
 "metadata": {
  "kernelspec": {
   "display_name": "Python 2",
   "language": "python",
   "name": "python2"
  },
  "language_info": {
   "codemirror_mode": {
    "name": "ipython",
    "version": 2
   },
   "file_extension": ".py",
   "mimetype": "text/x-python",
   "name": "python",
   "nbconvert_exporter": "python",
   "pygments_lexer": "ipython2",
   "version": "2.7.14"
  }
 },
 "nbformat": 4,
 "nbformat_minor": 2
}
