{
  "nbformat": 4,
  "nbformat_minor": 0,
  "metadata": {
    "kernelspec": {
      "display_name": "Python 3",
      "language": "python",
      "name": "python3"
    },
    "language_info": {
      "codemirror_mode": {
        "name": "ipython",
        "version": 3
      },
      "file_extension": ".py",
      "mimetype": "text/x-python",
      "name": "python",
      "nbconvert_exporter": "python",
      "pygments_lexer": "ipython3",
      "version": "3.6.9"
    },
    "colab": {
      "name": "5- Neural based channel decoders.ipynb",
      "provenance": []
    }
  },
  "cells": [
    {
      "cell_type": "markdown",
      "metadata": {
        "id": "ug2m-zsT0ij-",
        "colab_type": "text"
      },
      "source": [
        "# Neural-based channel decoders\n"
      ]
    },
    {
      "cell_type": "markdown",
      "metadata": {
        "id": "iViUNcHQ0ikA",
        "colab_type": "text"
      },
      "source": [
        "## 1. Prerequisites:  \n",
        "\n",
        "The purpose of this part of the work is to compare the BER of both a pre-trained neural decoder and the MAP decoder for a Polar code over an AWGN channel. \n",
        "\n",
        "In order to develop a neural based channel decoder you will need: \n",
        "\n",
        "- A communication chain which implements the polar code and its MAP decoder (under python)\n",
        "- A working keras environment with the proper backend Tensorflow \n",
        "\n",
        "\n",
        "## 2. Training dataset and training:  \n",
        "\n",
        "In order to train the neural network, you need to provide it with both: \n",
        "- Input sequences: the received $y^n$\n",
        "- Label sequences (or targets) : the transmitted $u^k$\n",
        "\n",
        "In order for the neural decoder to be able to recover the original information words, i.e., $u^k$, the neural decoder needs to be trained over all possible $u^k$ and therefore, all posssible codewords $c^n$. Thus, the label sequences need to cover all possibly transmitted sequences. \n",
        "\n",
        "The labels can be coded in two different manners: \n",
        "- Array representation: the output of the neural network is a vector of size k, which outputs for each bit $i \\in [1:k]$, a possible value 0 or 1. . \n",
        "- One hot representation: the output of the neural networ is a vector of size $2^k$ which outputs $1$ only at the index of the information word transmitted, and 0 everywhere else. \n",
        "\n",
        "Question: In practice, the output of a neural network is never binary, but it rather has a soft value $ \\in [0:1]$. Depending on the type of the network, two possible output activation functions can be used in order to output these soft values: sigmoid or softmax. Which function should we use for either strategies? \n",
        "\n",
        "In this project, we will use one-hot representations. \n",
        "\n",
        "## 3. Testing: \n",
        "Once the neural network is trained, you can test it in the communication chain you implemented before. \n",
        "\n",
        "## 4. Design meta-parameters: \n",
        "\n",
        "The performances of the neural decoder will be strongly related to the metaparameters chosen during training. \n",
        "\n",
        "Try and assess the effect of the different design metaparameters: \n",
        "\n",
        "- Training epochs\n",
        "- Number of hidden layers\n",
        "- Number of neurons per layer\n",
        "- Activation functions\n",
        "- Training SNR \n",
        "- Optimizer \n",
        "- Loss function: mse, crossentropy \n"
      ]
    },
    {
      "cell_type": "code",
      "metadata": {
        "id": "RY4pckrQ0ikB",
        "colab_type": "code",
        "colab": {
          "base_uri": "https://localhost:8080/",
          "height": 814
        },
        "outputId": "c3d9419f-0698-4aa7-ca9a-052e9ef0f1fa"
      },
      "source": [
        "# -*- coding: utf-8 -*-\n",
        "import matplotlib.pyplot as plt\n",
        "import numpy as np\n",
        "import keras \n",
        "\n",
        "from keras.models import Sequential\n",
        "from keras.utils import plot_model\n",
        "from keras.layers import Dense, Dropout, Activation\n",
        "from keras.optimizers import SGD\n",
        "\n",
        "from src.communications import Transmitter, AWGNChannel, Receiver, ReceiverMode\n",
        "from src.utils import ber_performance, get_basic_channel_fct, show_ber\n",
        "\n",
        "# Configuration\n",
        "MODULATION = 'BPSK'\n",
        "G = np.array([[1, 1, 1, 1, 0, 0, 0, 0, 0, 0, 0, 0, 0, 0, 0, 0],\n",
        "              [1, 1, 0, 0, 1, 1, 0, 0, 0, 0, 0, 0, 0, 0, 0, 0],\n",
        "              [1, 1, 1, 1, 1, 1, 1, 1, 0, 0, 0, 0, 0, 0, 0, 0],\n",
        "              [1, 1, 0, 0, 0, 0, 0, 0, 1, 1, 0, 0, 0, 0, 0, 0],\n",
        "              [1, 1, 1, 1, 0, 0, 0, 0, 1, 1, 1, 1, 0, 0, 0, 0],\n",
        "              [1, 1, 0, 0, 1, 1, 0, 0, 1, 1, 0, 0, 1, 1, 0, 0],\n",
        "              [1, 0, 1, 0, 1, 0, 1, 0, 1, 0, 1, 0, 1, 0, 1, 0],\n",
        "              [1, 1, 1, 1, 1, 1, 1, 1, 1, 1, 1, 1, 1, 1, 1, 1]])\n",
        "\n",
        "# Initialization\n",
        "transmitter = Transmitter(MODULATION, G)\n",
        "channel = AWGNChannel(MODULATION, G)\n",
        "receiver = Receiver(MODULATION, G, ReceiverMode.MAP)\n",
        "\n",
        "if __name__ == '__main__':\n",
        "    # receiver.block_elements contains all possible u^k (labels)\n",
        "    # receiver.block_coded_elements contains all possible codewords c^n\n",
        "    \n",
        "    k = np.size(G, 0)\n",
        "    n = np.size(G, 1)\n",
        "    \n",
        "    # Create model\n",
        "    hot_model=Sequential()\n",
        "    hot_model.add(Dense(10*2**k, activation='sigmoid', input_dim=n))\n",
        "    hot_model.add(Dense(2**k, activation='sigmoid', input_dim=n))\n",
        "    hot_model.compile(\n",
        "        optimizer='adam',\n",
        "        loss='binary_crossentropy',\n",
        "        metrics=['accuracy']\n",
        "    )\n",
        "    print(hot_model.summary())\n",
        "\n",
        "    # Create labels for hot representation\n",
        "    labels = []\n",
        "    for i in range(2**k):\n",
        "        labels.append(np.zeros(2**k))\n",
        "        labels[-1][i] = 1\n",
        "    \n",
        "    hot_history = hot_model.fit(\n",
        "        np.array(receiver.block_coded_elements), \n",
        "        np.array(labels), \n",
        "        epochs=10**4, \n",
        "        verbose=0\n",
        "    )\n"
      ],
      "execution_count": 1,
      "outputs": [
        {
          "output_type": "stream",
          "text": [
            "Using TensorFlow backend.\n"
          ],
          "name": "stderr"
        },
        {
          "output_type": "display_data",
          "data": {
            "text/html": [
              "<p style=\"color: red;\">\n",
              "The default version of TensorFlow in Colab will soon switch to TensorFlow 2.x.<br>\n",
              "We recommend you <a href=\"https://www.tensorflow.org/guide/migrate\" target=\"_blank\">upgrade</a> now \n",
              "or ensure your notebook will continue to use TensorFlow 1.x via the <code>%tensorflow_version 1.x</code> magic:\n",
              "<a href=\"https://colab.research.google.com/notebooks/tensorflow_version.ipynb\" target=\"_blank\">more info</a>.</p>\n"
            ],
            "text/plain": [
              "<IPython.core.display.HTML object>"
            ]
          },
          "metadata": {
            "tags": []
          }
        },
        {
          "output_type": "stream",
          "text": [
            "WARNING:tensorflow:From /usr/local/lib/python3.6/dist-packages/keras/backend/tensorflow_backend.py:66: The name tf.get_default_graph is deprecated. Please use tf.compat.v1.get_default_graph instead.\n",
            "\n",
            "WARNING:tensorflow:From /usr/local/lib/python3.6/dist-packages/keras/backend/tensorflow_backend.py:541: The name tf.placeholder is deprecated. Please use tf.compat.v1.placeholder instead.\n",
            "\n",
            "WARNING:tensorflow:From /usr/local/lib/python3.6/dist-packages/keras/backend/tensorflow_backend.py:4432: The name tf.random_uniform is deprecated. Please use tf.random.uniform instead.\n",
            "\n",
            "WARNING:tensorflow:From /usr/local/lib/python3.6/dist-packages/keras/optimizers.py:793: The name tf.train.Optimizer is deprecated. Please use tf.compat.v1.train.Optimizer instead.\n",
            "\n",
            "WARNING:tensorflow:From /usr/local/lib/python3.6/dist-packages/keras/backend/tensorflow_backend.py:3657: The name tf.log is deprecated. Please use tf.math.log instead.\n",
            "\n",
            "WARNING:tensorflow:From /usr/local/lib/python3.6/dist-packages/tensorflow_core/python/ops/nn_impl.py:183: where (from tensorflow.python.ops.array_ops) is deprecated and will be removed in a future version.\n",
            "Instructions for updating:\n",
            "Use tf.where in 2.0, which has the same broadcast rule as np.where\n",
            "Model: \"sequential_1\"\n",
            "_________________________________________________________________\n",
            "Layer (type)                 Output Shape              Param #   \n",
            "=================================================================\n",
            "dense_1 (Dense)              (None, 2560)              43520     \n",
            "_________________________________________________________________\n",
            "dense_2 (Dense)              (None, 256)               655616    \n",
            "=================================================================\n",
            "Total params: 699,136\n",
            "Trainable params: 699,136\n",
            "Non-trainable params: 0\n",
            "_________________________________________________________________\n",
            "None\n",
            "WARNING:tensorflow:From /usr/local/lib/python3.6/dist-packages/keras/backend/tensorflow_backend.py:1033: The name tf.assign_add is deprecated. Please use tf.compat.v1.assign_add instead.\n",
            "\n",
            "WARNING:tensorflow:From /usr/local/lib/python3.6/dist-packages/keras/backend/tensorflow_backend.py:1020: The name tf.assign is deprecated. Please use tf.compat.v1.assign instead.\n",
            "\n",
            "WARNING:tensorflow:From /usr/local/lib/python3.6/dist-packages/keras/backend/tensorflow_backend.py:3005: The name tf.Session is deprecated. Please use tf.compat.v1.Session instead.\n",
            "\n",
            "WARNING:tensorflow:From /usr/local/lib/python3.6/dist-packages/keras/backend/tensorflow_backend.py:190: The name tf.get_default_session is deprecated. Please use tf.compat.v1.get_default_session instead.\n",
            "\n",
            "WARNING:tensorflow:From /usr/local/lib/python3.6/dist-packages/keras/backend/tensorflow_backend.py:197: The name tf.ConfigProto is deprecated. Please use tf.compat.v1.ConfigProto instead.\n",
            "\n",
            "WARNING:tensorflow:From /usr/local/lib/python3.6/dist-packages/keras/backend/tensorflow_backend.py:207: The name tf.global_variables is deprecated. Please use tf.compat.v1.global_variables instead.\n",
            "\n",
            "WARNING:tensorflow:From /usr/local/lib/python3.6/dist-packages/keras/backend/tensorflow_backend.py:216: The name tf.is_variable_initialized is deprecated. Please use tf.compat.v1.is_variable_initialized instead.\n",
            "\n",
            "WARNING:tensorflow:From /usr/local/lib/python3.6/dist-packages/keras/backend/tensorflow_backend.py:223: The name tf.variables_initializer is deprecated. Please use tf.compat.v1.variables_initializer instead.\n",
            "\n"
          ],
          "name": "stdout"
        }
      ]
    },
    {
      "cell_type": "code",
      "metadata": {
        "id": "ZqNu8UDd-kpN",
        "colab_type": "code",
        "colab": {
          "base_uri": "https://localhost:8080/",
          "height": 513
        },
        "outputId": "240977b6-0a1e-4634-9fad-8a117284d3c4"
      },
      "source": [
        "# Plot training & validation accuracy values\n",
        "fig = plt.figure(figsize=(20, 8))\n",
        "ax = fig.add_subplot(121)\n",
        "plt.grid()\n",
        "plt.plot(hot_history.history['acc'])\n",
        "plt.title('Model accuracy')\n",
        "plt.ylabel('Accuracy')\n",
        "plt.xlabel('Epoch')\n",
        "plt.legend(['Train'], loc='upper left')\n",
        "\n",
        "# Plot training & validation loss values\n",
        "ax = fig.add_subplot(122)\n",
        "plt.grid()\n",
        "plt.plot(hot_history.history['loss'])\n",
        "plt.title('Model loss')\n",
        "plt.ylabel('Loss')\n",
        "plt.xlabel('Epoch')\n",
        "plt.legend(['Train'], loc='upper left')\n",
        "plt.yscale('log')\n",
        "# plt.subplots_adjust(wspace = 0.5)"
      ],
      "execution_count": 4,
      "outputs": [
        {
          "output_type": "display_data",
          "data": {
            "image/png": "[encoded data removed]",
            "text/plain": [
              "<Figure size 1440x576 with 2 Axes>"
            ]
          },
          "metadata": {
            "tags": []
          }
        }
      ]
    }
  ]
}