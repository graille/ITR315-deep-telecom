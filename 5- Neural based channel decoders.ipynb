{
  "nbformat": 4,
  "nbformat_minor": 0,
  "metadata": {
    "kernelspec": {
      "display_name": "Python 3",
      "language": "python",
      "name": "python3"
    },
    "language_info": {
      "codemirror_mode": {
        "name": "ipython",
        "version": 3
      },
      "file_extension": ".py",
      "mimetype": "text/x-python",
      "name": "python",
      "nbconvert_exporter": "python",
      "pygments_lexer": "ipython3",
      "version": "3.6.9"
    },
    "colab": {
      "name": "5- Neural based channel decoders.ipynb",
      "provenance": []
    }
  },
  "cells": [
    {
      "cell_type": "markdown",
      "metadata": {
        "id": "ug2m-zsT0ij-",
        "colab_type": "text"
      },
      "source": [
        "# Neural-based channel decoders\n"
      ]
    },
    {
      "cell_type": "markdown",
      "metadata": {
        "id": "iViUNcHQ0ikA",
        "colab_type": "text"
      },
      "source": [
        "## 1. Prerequisites:  \n",
        "\n",
        "The purpose of this part of the work is to compare the BER of both a pre-trained neural decoder and the MAP decoder for a Polar code over an AWGN channel. \n",
        "\n",
        "In order to develop a neural based channel decoder you will need: \n",
        "\n",
        "- A communication chain which implements the polar code and its MAP decoder (under python)\n",
        "- A working keras environment with the proper backend Tensorflow \n",
        "\n",
        "\n",
        "## 2. Training dataset and training:  \n",
        "\n",
        "In order to train the neural network, you need to provide it with both: \n",
        "- Input sequences: the received $y^n$\n",
        "- Label sequences (or targets) : the transmitted $u^k$\n",
        "\n",
        "In order for the neural decoder to be able to recover the original information words, i.e., $u^k$, the neural decoder needs to be trained over all possible $u^k$ and therefore, all posssible codewords $c^n$. Thus, the label sequences need to cover all possibly transmitted sequences. \n",
        "\n",
        "The labels can be coded in two different manners: \n",
        "- Array representation: the output of the neural network is a vector of size k, which outputs for each bit $i \\in [1:k]$, a possible value 0 or 1. . \n",
        "- One hot representation: the output of the neural networ is a vector of size $2^k$ which outputs $1$ only at the index of the information word transmitted, and 0 everywhere else. \n",
        "\n",
        "Question: In practice, the output of a neural network is never binary, but it rather has a soft value $ \\in [0:1]$. Depending on the type of the network, two possible output activation functions can be used in order to output these soft values: sigmoid or softmax. Which function should we use for either strategies? \n",
        "\n",
        "In this project, we will use one-hot representations. \n",
        "\n",
        "## 3. Testing: \n",
        "Once the neural network is trained, you can test it in the communication chain you implemented before. \n",
        "\n",
        "## 4. Design meta-parameters: \n",
        "\n",
        "The performances of the neural decoder will be strongly related to the metaparameters chosen during training. \n",
        "\n",
        "Try and assess the effect of the different design metaparameters: \n",
        "\n",
        "- Training epochs\n",
        "- Number of hidden layers\n",
        "- Number of neurons per layer\n",
        "- Activation functions\n",
        "- Training SNR \n",
        "- Optimizer \n",
        "- Loss function: mse, crossentropy \n"
      ]
    },
    {
      "cell_type": "code",
      "metadata": {
        "id": "RY4pckrQ0ikB",
        "colab_type": "code",
        "colab": {
          "base_uri": "https://localhost:8080/",
          "height": 238
        },
        "outputId": "b1108a83-cd2b-42dc-953b-3cd3af64d194"
      },
      "source": [
        "# -*- coding: utf-8 -*-\n",
        "import matplotlib.pyplot as plt\n",
        "import numpy as np\n",
        "import keras \n",
        "\n",
        "from keras.models import Sequential\n",
        "from keras.utils import plot_model\n",
        "from keras.layers import Dense, Dropout, Activation\n",
        "from keras.optimizers import SGD\n",
        "\n",
        "from src.communications import Transmitter, AWGNChannel, Receiver, ReceiverMode\n",
        "from src.utils import ber_performance, get_basic_channel_fct, show_ber\n",
        "\n",
        "# Configuration\n",
        "MODULATION = 'BPSK'\n",
        "G = np.array([[1, 1, 1, 1, 0, 0, 0, 0, 0, 0, 0, 0, 0, 0, 0, 0],\n",
        "              [1, 1, 0, 0, 1, 1, 0, 0, 0, 0, 0, 0, 0, 0, 0, 0],\n",
        "              [1, 1, 1, 1, 1, 1, 1, 1, 0, 0, 0, 0, 0, 0, 0, 0],\n",
        "              [1, 1, 0, 0, 0, 0, 0, 0, 1, 1, 0, 0, 0, 0, 0, 0],\n",
        "              [1, 1, 1, 1, 0, 0, 0, 0, 1, 1, 1, 1, 0, 0, 0, 0],\n",
        "              [1, 1, 0, 0, 1, 1, 0, 0, 1, 1, 0, 0, 1, 1, 0, 0],\n",
        "              [1, 0, 1, 0, 1, 0, 1, 0, 1, 0, 1, 0, 1, 0, 1, 0],\n",
        "              [1, 1, 1, 1, 1, 1, 1, 1, 1, 1, 1, 1, 1, 1, 1, 1]])\n",
        "\n",
        "# Initialization\n",
        "transmitter = Transmitter(MODULATION, G)\n",
        "channel = AWGNChannel(MODULATION, G)\n",
        "receiver = Receiver(MODULATION, G, ReceiverMode.MAP)\n",
        "\n",
        "if __name__ == '__main__':\n",
        "    # receiver.block_elements contains all possible u^k (labels)\n",
        "    # receiver.block_coded_elements contains all possible codewords c^n\n",
        "    \n",
        "    k = np.size(G, 0)\n",
        "    n = np.size(G, 1)\n",
        "    \n",
        "    # Create model\n",
        "    hot_model=Sequential()\n",
        "    hot_model.add(Dense(10*2**k, activation='relu', input_dim=n))\n",
        "    hot_model.add(Dense(2**k, activation='softmax', input_dim=n))\n",
        "    hot_model.compile(\n",
        "        optimizer='adam',\n",
        "        loss='categorical_crossentropy',\n",
        "        metrics=['accuracy']\n",
        "    )\n",
        "    print(hot_model.summary())\n",
        "\n",
        "    # Create labels for hot representation\n",
        "    labels = []\n",
        "    for i in range(2**k):\n",
        "        labels.append(np.zeros(2**k))\n",
        "        labels[-1][i] = 1\n",
        "    \n",
        "    hot_history = hot_model.fit(\n",
        "        np.array(receiver.block_coded_elements), \n",
        "        np.array(labels), \n",
        "        epochs=10**3, \n",
        "        verbose=0\n",
        "    )\n"
      ],
      "execution_count": 0,
      "outputs": [
        {
          "output_type": "stream",
          "text": [
            "Model: \"sequential_2\"\n",
            "_________________________________________________________________\n",
            "Layer (type)                 Output Shape              Param #   \n",
            "=================================================================\n",
            "dense_3 (Dense)              (None, 2560)              43520     \n",
            "_________________________________________________________________\n",
            "dense_4 (Dense)              (None, 256)               655616    \n",
            "=================================================================\n",
            "Total params: 699,136\n",
            "Trainable params: 699,136\n",
            "Non-trainable params: 0\n",
            "_________________________________________________________________\n",
            "None\n"
          ],
          "name": "stdout"
        }
      ]
    },
    {
      "cell_type": "code",
      "metadata": {
        "id": "ZqNu8UDd-kpN",
        "colab_type": "code",
        "colab": {}
      },
      "source": [
        "# Plot training & validation accuracy values\n",
        "fig = plt.figure(figsize=(20, 8))\n",
        "ax = fig.add_subplot(121)\n",
        "plt.grid()\n",
        "plt.plot(hot_history.history['acc'])\n",
        "plt.title('Model accuracy')\n",
        "plt.ylabel('Accuracy')\n",
        "plt.xlabel('Epoch')\n",
        "plt.legend(['Train'], loc='upper left')\n",
        "\n",
        "# Plot training & validation loss values\n",
        "ax = fig.add_subplot(122)\n",
        "plt.grid()\n",
        "plt.plot(hot_history.history['loss'])\n",
        "plt.title('Model loss')\n",
        "plt.ylabel('Loss')\n",
        "plt.xlabel('Epoch')\n",
        "plt.legend(['Train'], loc='upper left')\n",
        "plt.yscale('log')\n",
        "# plt.subplots_adjust(wspace = 0.5)"
      ],
      "execution_count": 0,
      "outputs": []
    },
    {
      "cell_type": "code",
      "metadata": {
        "id": "YwYu94K1FlTS",
        "colab_type": "code",
        "colab": {}
      },
      "source": [
        "r = hot_model.predict(transmitter.transmit(np.array([0, 1, 0, 0, 1, 1, 1, 0])))\n",
        "\n",
        "print(r)"
      ],
      "execution_count": 0,
      "outputs": []
    }
  ]
}