{
 "cells": [
  {
   "cell_type": "markdown",
   "metadata": {
    "colab_type": "text",
    "id": "ug2m-zsT0ij-"
   },
   "source": [
    "# Neural-based channel decoders\n"
   ]
  },
  {
   "cell_type": "markdown",
   "metadata": {
    "colab_type": "text",
    "id": "iViUNcHQ0ikA"
   },
   "source": [
    "## 1. Prerequisites:  \n",
    "\n",
    "The purpose of this part of the work is to compare the BER of both a pre-trained neural decoder and the MAP decoder for a Polar code over an AWGN channel. \n",
    "\n",
    "In order to develop a neural based channel decoder you will need: \n",
    "\n",
    "- A communication chain which implements the polar code and its MAP decoder (under python)\n",
    "- A working keras environment with the proper backend Tensorflow \n",
    "\n",
    "\n",
    "## 2. Training dataset and training:  \n",
    "\n",
    "In order to train the neural network, you need to provide it with both: \n",
    "- Input sequences: the received $y^n$\n",
    "- Label sequences (or targets) : the transmitted $u^k$\n",
    "\n",
    "In order for the neural decoder to be able to recover the original information words, i.e., $u^k$, the neural decoder needs to be trained over all possible $u^k$ and therefore, all posssible codewords $c^n$. Thus, the label sequences need to cover all possibly transmitted sequences. \n",
    "\n",
    "The labels can be coded in two different manners: \n",
    "- Array representation: the output of the neural network is a vector of size k, which outputs for each bit $i \\in [1:k]$, a possible value 0 or 1. . \n",
    "- One hot representation: the output of the neural networ is a vector of size $2^k$ which outputs $1$ only at the index of the information word transmitted, and 0 everywhere else. \n",
    "\n",
    "Question: In practice, the output of a neural network is never binary, but it rather has a soft value $ \\in [0:1]$. Depending on the type of the network, two possible output activation functions can be used in order to output these soft values: sigmoid or softmax. Which function should we use for either strategies? \n",
    "\n",
    "In this project, we will use one-hot representations. \n",
    "\n",
    "## 3. Testing: \n",
    "Once the neural network is trained, you can test it in the communication chain you implemented before. \n",
    "\n",
    "## 4. Design meta-parameters: \n",
    "\n",
    "The performances of the neural decoder will be strongly related to the metaparameters chosen during training. \n",
    "\n",
    "Try and assess the effect of the different design metaparameters: \n",
    "\n",
    "- Training epochs\n",
    "- Number of hidden layers\n",
    "- Number of neurons per layer\n",
    "- Activation functions\n",
    "- Training SNR \n",
    "- Optimizer \n",
    "- Loss function: mse, crossentropy \n"
   ]
  },
  {
   "cell_type": "code",
   "execution_count": 17,
   "metadata": {
    "colab": {},
    "colab_type": "code",
    "id": "RY4pckrQ0ikB"
   },
   "outputs": [
    {
     "name": "stdout",
     "output_type": "stream",
     "text": [
      "Model: \"sequential_6\"\n",
      "_________________________________________________________________\n",
      "Layer (type)                 Output Shape              Param #   \n",
      "=================================================================\n",
      "gaussian_noise_3 (GaussianNo (None, 16)                0         \n",
      "_________________________________________________________________\n",
      "sequential_5 (Sequential)    (None, 256)               1398016   \n",
      "=================================================================\n",
      "Total params: 1,398,016\n",
      "Trainable params: 1,398,016\n",
      "Non-trainable params: 0\n",
      "_________________________________________________________________\n",
      "None\n",
      "Elapsed : 403.28 s\n"
     ]
    }
   ],
   "source": [
    "# -*- coding: utf-8 -*-\n",
    "import matplotlib.pyplot as plt\n",
    "import numpy as np\n",
    "import keras \n",
    "import time\n",
    "\n",
    "from keras.models import Sequential\n",
    "from keras.utils import plot_model\n",
    "from keras.layers import Dense, Dropout, Activation, GaussianNoise\n",
    "from keras.optimizers import SGD\n",
    "\n",
    "from src.communications import Transmitter, AWGNChannel, Receiver, ReceiverMode\n",
    "from src.utils import ber_performance, get_basic_channel_fct, show_ber\n",
    "\n",
    "# Configuration\n",
    "MODULATION = 'BPSK'\n",
    "G = np.array([[1, 1, 1, 1, 0, 0, 0, 0, 0, 0, 0, 0, 0, 0, 0, 0],\n",
    "              [1, 1, 0, 0, 1, 1, 0, 0, 0, 0, 0, 0, 0, 0, 0, 0],\n",
    "              [1, 1, 1, 1, 1, 1, 1, 1, 0, 0, 0, 0, 0, 0, 0, 0],\n",
    "              [1, 1, 0, 0, 0, 0, 0, 0, 1, 1, 0, 0, 0, 0, 0, 0],\n",
    "              [1, 1, 1, 1, 0, 0, 0, 0, 1, 1, 1, 1, 0, 0, 0, 0],\n",
    "              [1, 1, 0, 0, 1, 1, 0, 0, 1, 1, 0, 0, 1, 1, 0, 0],\n",
    "              [1, 0, 1, 0, 1, 0, 1, 0, 1, 0, 1, 0, 1, 0, 1, 0],\n",
    "              [1, 1, 1, 1, 1, 1, 1, 1, 1, 1, 1, 1, 1, 1, 1, 1]])\n",
    "\n",
    "# Initialization\n",
    "transmitter = Transmitter(MODULATION, G)\n",
    "channel = AWGNChannel(MODULATION, G)\n",
    "receiver = Receiver(MODULATION, G, ReceiverMode.MAP)\n",
    "\n",
    "if __name__ == '__main__':\n",
    "    t = time.time()\n",
    "    # receiver.block_elements contains all possible u^k (labels)\n",
    "    # receiver.block_coded_elements contains all possible codewords c^n\n",
    "    \n",
    "    k = np.size(G, 0)\n",
    "    n = np.size(G, 1)\n",
    "    \n",
    "    # Create model\n",
    "    # We are working with probability, to have sum(s_i) = 1 at the output, we use a softmax instead of a sigmoid activation function\n",
    "    # Because we are using a hit representation, we use a \n",
    "    hot_model=Sequential()\n",
    "    hot_model.add(Dense(20*2**k, activation='relu', input_dim=n))\n",
    "    hot_model.add(Dense(2**k, activation='softmax', input_dim=n))\n",
    "            \n",
    "    SNR = 10**(1 / 10)\n",
    "    \n",
    "    noisy_model=Sequential()\n",
    "    noisy_model.add(GaussianNoise(0.01, input_shape=(n,)))\n",
    "    noisy_model.add(hot_model)\n",
    "    \n",
    "    noisy_model.compile(\n",
    "        optimizer='adam',\n",
    "        loss='categorical_crossentropy',\n",
    "        metrics=['accuracy']\n",
    "    )\n",
    "    print(noisy_model.summary())\n",
    "    \n",
    "    # Create labels for hot representation\n",
    "    labels = []\n",
    "    for i in range(2**k):\n",
    "        labels.append(np.zeros(2**k))\n",
    "        labels[-1][i] = 1\n",
    "    \n",
    "    noisy_history = noisy_model.fit(\n",
    "        np.array(receiver.block_coded_elements), \n",
    "        np.array(labels), \n",
    "        epochs=5*10**3, \n",
    "        verbose=0\n",
    "    )\n",
    "    noisy_model.save('networks/decoder.h5')\n",
    "    \n",
    "    print(f'Elapsed : {np.round(time.time() - t, 2)} s')\n"
   ]
  },
  {
   "cell_type": "code",
   "execution_count": 20,
   "metadata": {
    "colab": {
     "base_uri": "https://localhost:8080/",
     "height": 513
    },
    "colab_type": "code",
    "id": "ZqNu8UDd-kpN",
    "outputId": "f0e54895-a5fb-40bf-f840-e507e07b4a74"
   },
   "outputs": [
    {
     "data": {
      "image/png": "[encoded data removed]",
      "text/plain": [
       "<Figure size 1440x576 with 2 Axes>"
      ]
     },
     "metadata": {
      "needs_background": "light"
     },
     "output_type": "display_data"
    }
   ],
   "source": [
    "# Plot training & validation accuracy values\n",
    "fig = plt.figure(figsize=(20, 8))\n",
    "ax = fig.add_subplot(121)\n",
    "plt.grid()\n",
    "plt.plot(noisy_history.history['accuracy'])\n",
    "plt.title('Model accuracy')\n",
    "plt.ylabel('Accuracy')\n",
    "plt.xlabel('Epoch')\n",
    "plt.yscale('log')\n",
    "plt.legend(['Train'], loc='upper left')\n",
    "\n",
    "# Plot training & validation loss values\n",
    "ax = fig.add_subplot(122)\n",
    "plt.grid()\n",
    "plt.plot(noisy_history.history['loss'])\n",
    "plt.title('Model loss')\n",
    "plt.ylabel('Loss')\n",
    "plt.xlabel('Epoch')\n",
    "plt.legend(['Train'], loc='upper left')\n",
    "plt.yscale('log')\n",
    "# plt.subplots_adjust(wspace = 0.5)"
   ]
  },
  {
   "cell_type": "code",
   "execution_count": 19,
   "metadata": {
    "colab": {
     "base_uri": "https://localhost:8080/",
     "height": 460
    },
    "colab_type": "code",
    "id": "YwYu94K1FlTS",
    "outputId": "37f05087-f764-48f2-8879-3dd863afe009"
   },
   "outputs": [
    {
     "name": "stdout",
     "output_type": "stream",
     "text": [
      "Start EbN0 1/50 -15.0\n",
      "Start EbN0 2/50 -14.53061224489796\n",
      "Start EbN0 3/50 -14.061224489795919\n",
      "Start EbN0 4/50 -13.591836734693878\n",
      "Start EbN0 5/50 -13.122448979591837\n",
      "Start EbN0 6/50 -12.653061224489797\n",
      "Start EbN0 7/50 -12.183673469387756\n",
      "Start EbN0 8/50 -11.714285714285714\n",
      "Start EbN0 9/50 -11.244897959183673\n",
      "Start EbN0 10/50 -10.775510204081632\n",
      "Start EbN0 11/50 -10.306122448979592\n",
      "Start EbN0 12/50 -9.83673469387755\n",
      "Start EbN0 13/50 -9.36734693877551\n",
      "Start EbN0 14/50 -8.89795918367347\n",
      "Start EbN0 15/50 -8.428571428571427\n",
      "Start EbN0 16/50 -7.959183673469387\n",
      "Start EbN0 17/50 -7.489795918367347\n",
      "Start EbN0 18/50 -7.020408163265306\n",
      "Start EbN0 19/50 -6.551020408163264\n",
      "Start EbN0 20/50 -6.081632653061224\n",
      "Start EbN0 21/50 -5.612244897959183\n",
      "Start EbN0 22/50 -5.142857142857142\n",
      "Start EbN0 23/50 -4.673469387755102\n",
      "Start EbN0 24/50 -4.204081632653061\n",
      "Start EbN0 25/50 -3.7346938775510203\n",
      "Start EbN0 26/50 -3.2653061224489797\n",
      "Start EbN0 27/50 -2.795918367346939\n",
      "Start EbN0 28/50 -2.3265306122448965\n",
      "Start EbN0 29/50 -1.8571428571428559\n",
      "Start EbN0 30/50 -1.3877551020408152\n",
      "Start EbN0 31/50 -0.9183673469387745\n",
      "Start EbN0 32/50 -0.44897959183673386\n",
      "Start EbN0 33/50 0.02040816326530681\n",
      "Start EbN0 34/50 0.4897959183673475\n",
      "Start EbN0 35/50 0.9591836734693882\n",
      "Start EbN0 36/50 1.4285714285714306\n",
      "Start EbN0 37/50 1.8979591836734713\n",
      "Start EbN0 38/50 2.367346938775512\n",
      "Start EbN0 39/50 2.8367346938775526\n",
      "Start EbN0 40/50 3.3061224489795933\n",
      "Start EbN0 41/50 3.775510204081634\n",
      "Start EbN0 42/50 4.244897959183675\n",
      "Start EbN0 43/50 4.714285714285715\n",
      "Start EbN0 44/50 5.183673469387756\n",
      "Start EbN0 45/50 5.653061224489797\n",
      "Start EbN0 46/50 6.122448979591837\n",
      "Start EbN0 47/50 6.591836734693878\n",
      "Start EbN0 48/50 7.061224489795919\n",
      "Start EbN0 49/50 7.530612244897959\n",
      "Start EbN0 50/50 8.0\n"
     ]
    },
    {
     "data": {
      "image/png": "[encoded data removed]",
      "text/plain": [
       "<Figure size 432x288 with 1 Axes>"
      ]
     },
     "metadata": {
      "needs_background": "light"
     },
     "output_type": "display_data"
    },
    {
     "name": "stdout",
     "output_type": "stream",
     "text": [
      "Elapsed : 250.26 s\n"
     ]
    }
   ],
   "source": [
    "import time\n",
    "\n",
    "EbN0dBs = np.linspace(-15, 8, 50)\n",
    "\n",
    "def channel_fnt(b, EbN0dB):\n",
    "    c = transmitter.transmit(b)\n",
    "    d = channel.process(c, EbN0dB)\n",
    "\n",
    "    # Create blocks\n",
    "    b_r = noisy_model.predict(np.array(np.split(d, len(d) // transmitter.block_coded_length)))\n",
    "    \n",
    "    b_r = np.array(list(map(lambda x: receiver.block_elements[np.argmax(x)], b_r)))\n",
    "    b_r = b_r.flatten()\n",
    "\n",
    "    return b_r, c, d\n",
    "\n",
    "if __name__ == '__main__':\n",
    "    t = time.time()\n",
    "    BER = ber_performance(\n",
    "        EbN0dBs,\n",
    "        channel_fnt,\n",
    "        np.size(G, 0) * 5000,\n",
    "        80\n",
    "    )\n",
    "    \n",
    "    [EbN0dBs_C, BER_C] = np.loadtxt('BER_G_MAP.csv', delimiter=',')\n",
    "    \n",
    "    # Plot results\n",
    "    plt.figure()\n",
    "    show_ber(MODULATION, EbN0dBs, BER)\n",
    "    plt.plot(EbN0dBs_C, BER_C)\n",
    "    plt.legend(['BPSK', 'Neural network', 'Theory'])\n",
    "    plt.show()\n",
    "    \n",
    "    np.savetxt('BER_G_NEURAL.csv', [np.array(EbN0dBs), np.array(BER)], delimiter=',')\n",
    "    print(f'Elapsed : {np.round(time.time() - t, 2)} s')"
   ]
  }
 ],
 "metadata": {
  "colab": {
   "name": "5- Neural based channel decoders.ipynb",
   "provenance": []
  },
  "kernelspec": {
   "display_name": "Python 3",
   "language": "python",
   "name": "python3"
  },
  "language_info": {
   "codemirror_mode": {
    "name": "ipython",
    "version": 3
   },
   "file_extension": ".py",
   "mimetype": "text/x-python",
   "name": "python",
   "nbconvert_exporter": "python",
   "pygments_lexer": "ipython3",
   "version": "3.7.6"
  }
 },
 "nbformat": 4,
 "nbformat_minor": 4
}
